{
 "cells": [
  {
   "cell_type": "markdown",
   "metadata": {},
   "source": [
    "# Financial Planning with APIs and Simulations\n",
    "\n",
    "In this Challenge, you’ll create two financial analysis tools by using a single Jupyter notebook:\n",
    "\n",
    "Part 1: A financial planner for emergencies. The members will be able to use this tool to visualize their current savings. The members can then determine if they have enough reserves for an emergency fund.\n",
    "\n",
    "Part 2: A financial planner for retirement. This tool will forecast the performance of their retirement portfolio in 30 years. To do this, the tool will make an Alpaca API call via the Alpaca SDK to get historical price data for use in Monte Carlo simulations.\n",
    "\n",
    "You’ll use the information from the Monte Carlo simulation to answer questions about the portfolio in your Jupyter notebook.\n",
    "\n"
   ]
  },
  {
   "cell_type": "code",
   "execution_count": 1,
   "metadata": {},
   "outputs": [],
   "source": [
    "# Import the required libraries and dependencies\n",
    "import os\n",
    "import requests\n",
    "import json\n",
    "import pandas as pd\n",
    "from dotenv import load_dotenv\n",
    "import alpaca_trade_api as tradeapi\n",
    "from MCForecastTools import MCSimulation\n",
    "from datetime import date\n",
    "from datetime import datetime\n",
    "from datetime import timedelta\n",
    "\n",
    "%matplotlib inline"
   ]
  },
  {
   "cell_type": "code",
   "execution_count": 2,
   "metadata": {},
   "outputs": [
    {
     "data": {
      "text/plain": [
       "True"
      ]
     },
     "execution_count": 2,
     "metadata": {},
     "output_type": "execute_result"
    }
   ],
   "source": [
    "# Load the environment variables from the .env file\n",
    "#by calling the load_dotenv function\n",
    "load_dotenv()"
   ]
  },
  {
   "cell_type": "markdown",
   "metadata": {},
   "source": [
    "## Part 1: Create a Financial Planner for Emergencies"
   ]
  },
  {
   "cell_type": "markdown",
   "metadata": {},
   "source": [
    "### Evaluate the Cryptocurrency Wallet by Using the Requests Library\n",
    "\n",
    "In this section, you’ll determine the current value of a member’s cryptocurrency wallet. You’ll collect the current prices for the Bitcoin and Ethereum cryptocurrencies by using the Python Requests library. For the prototype, you’ll assume that the member holds the 1.2 Bitcoins (BTC) and 5.3 Ethereum coins (ETH). To do all this, complete the following steps:\n",
    "\n",
    "1. Create a variable named `monthly_income`, and set its value to `12000`.\n",
    "\n",
    "2. Use the Requests library to get the current price (in US dollars) of Bitcoin (BTC) and Ethereum (ETH) by using the API endpoints that the starter code supplies.\n",
    "\n",
    "3. Navigate the JSON response object to access the current price of each coin, and store each in a variable.\n",
    "\n",
    "    > **Hint** Note the specific identifier for each cryptocurrency in the API JSON response. The Bitcoin identifier is `1`, and the Ethereum identifier is `1027`.\n",
    "\n",
    "4. Calculate the value, in US dollars, of the current amount of each cryptocurrency and of the entire cryptocurrency wallet.\n",
    "\n"
   ]
  },
  {
   "cell_type": "code",
   "execution_count": 3,
   "metadata": {},
   "outputs": [],
   "source": [
    "# The current number of coins for each cryptocurrency asset held in the portfolio.\n",
    "btc_coins = 1.2\n",
    "eth_coins = 5.3"
   ]
  },
  {
   "cell_type": "markdown",
   "metadata": {},
   "source": [
    "#### Step 1: Create a variable named `monthly_income`, and set its value to `12000`."
   ]
  },
  {
   "cell_type": "code",
   "execution_count": 4,
   "metadata": {},
   "outputs": [],
   "source": [
    "# The monthly amount for the member's household income\n",
    "monthly_income = 12000.0"
   ]
  },
  {
   "cell_type": "markdown",
   "metadata": {},
   "source": [
    "#### Review the endpoint URLs for the API calls to Free Crypto API in order to get the current pricing information for both BTC and ETH."
   ]
  },
  {
   "cell_type": "code",
   "execution_count": 5,
   "metadata": {},
   "outputs": [],
   "source": [
    "# The Free Crypto API Call endpoint URLs for the held cryptocurrency assets\n",
    "btc_url = \"https://api.alternative.me/v2/ticker/Bitcoin/?convert=USD\"\n",
    "eth_url = \"https://api.alternative.me/v2/ticker/Ethereum/?convert=USD\""
   ]
  },
  {
   "cell_type": "markdown",
   "metadata": {},
   "source": [
    "#### Step 2. Use the Requests library to get the current price (in US dollars) of Bitcoin (BTC) and Ethereum (ETH) by using the API endpoints that the starter code supplied."
   ]
  },
  {
   "cell_type": "code",
   "execution_count": 6,
   "metadata": {},
   "outputs": [
    {
     "name": "stdout",
     "output_type": "stream",
     "text": [
      "{\n",
      "  \"data\": {\n",
      "    \"1\": {\n",
      "      \"circulating_supply\": 18924862,\n",
      "      \"id\": 1,\n",
      "      \"last_updated\": 1641796260,\n",
      "      \"max_supply\": 21000000,\n",
      "      \"name\": \"Bitcoin\",\n",
      "      \"quotes\": {\n",
      "        \"USD\": {\n",
      "          \"market_cap\": 793787578000,\n",
      "          \"percent_change_1h\": -0.689641433455751,\n",
      "          \"percent_change_24h\": 0.126261668965203,\n",
      "          \"percent_change_7d\": -11.4912156825588,\n",
      "          \"percentage_change_1h\": -0.689641433455751,\n",
      "          \"percentage_change_24h\": 0.126261668965203,\n",
      "          \"percentage_change_7d\": -11.4912156825588,\n",
      "          \"price\": 41942.0,\n",
      "          \"volume_24h\": 17184128652\n",
      "        }\n",
      "      },\n",
      "      \"rank\": 1,\n",
      "      \"symbol\": \"BTC\",\n",
      "      \"total_supply\": 18924862,\n",
      "      \"website_slug\": \"bitcoin\"\n",
      "    }\n",
      "  },\n",
      "  \"metadata\": {\n",
      "    \"error\": null,\n",
      "    \"num_cryptocurrencies\": 3105,\n",
      "    \"timestamp\": 1641796260\n",
      "  }\n",
      "}\n"
     ]
    }
   ],
   "source": [
    "# Using the Python requests library, make an API call to access the current price of BTC\n",
    "btc_response = requests.get(btc_url).json()\n",
    "\n",
    "# Use the json.dumps function to review the response data from the API call\n",
    "# Use the indent and sort_keys parameters to make the response object readable\n",
    "\n",
    "print(json.dumps(btc_response, indent=2, sort_keys=True))"
   ]
  },
  {
   "cell_type": "code",
   "execution_count": 7,
   "metadata": {},
   "outputs": [
    {
     "name": "stdout",
     "output_type": "stream",
     "text": [
      "{\n",
      "  \"data\": {\n",
      "    \"1027\": {\n",
      "      \"circulating_supply\": 119098408,\n",
      "      \"id\": 1027,\n",
      "      \"last_updated\": 1641796256,\n",
      "      \"max_supply\": 0,\n",
      "      \"name\": \"Ethereum\",\n",
      "      \"quotes\": {\n",
      "        \"USD\": {\n",
      "          \"market_cap\": 376911529609,\n",
      "          \"percent_change_1h\": -0.48728177641679,\n",
      "          \"percent_change_24h\": 0.850311756234797,\n",
      "          \"percent_change_7d\": -17.4868331503903,\n",
      "          \"percentage_change_1h\": -0.48728177641679,\n",
      "          \"percentage_change_24h\": 0.850311756234797,\n",
      "          \"percentage_change_7d\": -17.4868331503903,\n",
      "          \"price\": 3164.71,\n",
      "          \"volume_24h\": 11271576519\n",
      "        }\n",
      "      },\n",
      "      \"rank\": 2,\n",
      "      \"symbol\": \"ETH\",\n",
      "      \"total_supply\": 119098408,\n",
      "      \"website_slug\": \"ethereum\"\n",
      "    }\n",
      "  },\n",
      "  \"metadata\": {\n",
      "    \"error\": null,\n",
      "    \"num_cryptocurrencies\": 3105,\n",
      "    \"timestamp\": 1641796256\n",
      "  }\n",
      "}\n"
     ]
    }
   ],
   "source": [
    "# Using the Python requests library, make an API call to access the current price ETH\n",
    "eth_response = requests.get(eth_url).json()\n",
    "\n",
    "\n",
    "# Use the json.dumps function to review the response data from the API call\n",
    "# Use the indent and sort_keys parameters to make the response object readable\n",
    "print(json.dumps(eth_response, indent=2, sort_keys=True))\n"
   ]
  },
  {
   "cell_type": "markdown",
   "metadata": {},
   "source": [
    "#### Step 3: Navigate the JSON response object to access the current price of each coin, and store each in a variable."
   ]
  },
  {
   "cell_type": "code",
   "execution_count": 9,
   "metadata": {},
   "outputs": [
    {
     "name": "stdout",
     "output_type": "stream",
     "text": [
      "The price for Bitcoin is $ 41,942.00\n"
     ]
    }
   ],
   "source": [
    "# Navigate the BTC response object to access the current price of BTC\n",
    "btc_price = btc_response['data']['1']['quotes']['USD']['price']\n",
    "\n",
    "# Print the current price of BTC\n",
    "print(f\"The price for Bitcoin is ${btc_price: ,.2f}\")"
   ]
  },
  {
   "cell_type": "code",
   "execution_count": 10,
   "metadata": {},
   "outputs": [
    {
     "name": "stdout",
     "output_type": "stream",
     "text": [
      "The price for ETH is $ 3,164.71\n"
     ]
    }
   ],
   "source": [
    "# Navigate the BTC response object to access the current price of ETH\n",
    "eth_price = eth_response['data']['1027']['quotes']['USD']['price']\n",
    "\n",
    "# Print the current price of ETH\n",
    "print(f\"The price for ETH is ${eth_price: ,.2f}\")\n"
   ]
  },
  {
   "cell_type": "markdown",
   "metadata": {},
   "source": [
    "### Step 4: Calculate the value, in US dollars, of the current amount of each cryptocurrency and of the entire cryptocurrency wallet."
   ]
  },
  {
   "cell_type": "code",
   "execution_count": 11,
   "metadata": {},
   "outputs": [
    {
     "name": "stdout",
     "output_type": "stream",
     "text": [
      "The value of current Bitcoin holdings is $ 50,330.40\n"
     ]
    }
   ],
   "source": [
    "# Compute the current value of the BTC holding \n",
    "btc_value = btc_coins * btc_price\n",
    "\n",
    "# Print current value of your holding in BTC\n",
    "print(f\"The value of current Bitcoin holdings is ${btc_value: ,.2f}\")\n"
   ]
  },
  {
   "cell_type": "code",
   "execution_count": 12,
   "metadata": {},
   "outputs": [
    {
     "name": "stdout",
     "output_type": "stream",
     "text": [
      "The value of current ETH holdings is $ 16,772.96\n"
     ]
    }
   ],
   "source": [
    "# Compute the current value of the ETH holding \n",
    "eth_value = eth_coins * eth_price\n",
    "\n",
    "# Print current value of your holding in ETH\n",
    "print(f\"The value of current ETH holdings is ${eth_value: ,.2f}\")\n"
   ]
  },
  {
   "cell_type": "code",
   "execution_count": 13,
   "metadata": {},
   "outputs": [
    {
     "name": "stdout",
     "output_type": "stream",
     "text": [
      "The current crypto wallet balance is $ 67,103.36\n"
     ]
    }
   ],
   "source": [
    "# Compute the total value of the cryptocurrency wallet\n",
    "# Add the value of the BTC holding to the value of the ETH holding\n",
    "total_crypto_wallet = btc_value + eth_value\n",
    "\n",
    "# Print current cryptocurrency wallet balance\n",
    "print(f\"The current crypto wallet balance is ${total_crypto_wallet: ,.2f}\")"
   ]
  },
  {
   "cell_type": "markdown",
   "metadata": {},
   "source": [
    "### Evaluate the Stock and Bond Holdings by Using the Alpaca SDK\n",
    "\n",
    "In this section, you’ll determine the current value of a member’s stock and bond holdings. You’ll make an API call to Alpaca via the Alpaca SDK to get the current closing prices of the SPDR S&P 500 ETF Trust (ticker: SPY) and of the iShares Core US Aggregate Bond ETF (ticker: AGG). For the prototype, assume that the member holds 110 shares of SPY, which represents the stock portion of their portfolio, and 200 shares of AGG, which represents the bond portion. To do all this, complete the following steps:\n",
    "\n",
    "1. In the `Starter_Code` folder, create an environment file (`.env`) to store the values of your Alpaca API key and Alpaca secret key.\n",
    "\n",
    "2. Set the variables for the Alpaca API and secret keys. Using the Alpaca SDK, create the Alpaca `tradeapi.REST` object. In this object, include the parameters for the Alpaca API key, the secret key, and the version number.\n",
    "\n",
    "3. Set the following parameters for the Alpaca API call:\n",
    "\n",
    "    - `tickers`: Use the tickers for the member’s stock and bond holdings.\n",
    "\n",
    "    - `timeframe`: Use a time frame of one day.\n",
    "\n",
    "    - `start_date` and `end_date`: Use the same date for these parameters, and format them with the date of the previous weekday (or `2020-08-07`). This is because you want the one closing price for the most-recent trading day.\n",
    "\n",
    "4. Get the current closing prices for `SPY` and `AGG` by using the Alpaca `get_barset` function. Format the response as a Pandas DataFrame by including the `df` property at the end of the `get_barset` function.\n",
    "\n",
    "5. Navigating the Alpaca response DataFrame, select the `SPY` and `AGG` closing prices, and store them as variables.\n",
    "\n",
    "6. Calculate the value, in US dollars, of the current amount of shares in each of the stock and bond portions of the portfolio, and print the results.\n"
   ]
  },
  {
   "cell_type": "markdown",
   "metadata": {},
   "source": [
    "#### Review the total number of shares held in both (SPY) and (AGG)."
   ]
  },
  {
   "cell_type": "code",
   "execution_count": 14,
   "metadata": {},
   "outputs": [],
   "source": [
    "# Current amount of shares held in both the stock (SPY) and bond (AGG) portion of the portfolio.\n",
    "spy_shares = 110\n",
    "agg_shares = 200\n"
   ]
  },
  {
   "cell_type": "markdown",
   "metadata": {},
   "source": [
    "#### Step 1: In the `Starter_Code` folder, create an environment file (`.env`) to store the values of your Alpaca API key and Alpaca secret key."
   ]
  },
  {
   "cell_type": "markdown",
   "metadata": {},
   "source": [
    "#### Step 2: Set the variables for the Alpaca API and secret keys. Using the Alpaca SDK, create the Alpaca `tradeapi.REST` object. In this object, include the parameters for the Alpaca API key, the secret key, and the version number."
   ]
  },
  {
   "cell_type": "code",
   "execution_count": 15,
   "metadata": {},
   "outputs": [],
   "source": [
    "# Set the variables for the Alpaca API and secret keys\n",
    "alpaca_api_key = os.getenv(\"ALPACA_API_KEY\")\n",
    "alpaca_secret_key = os.getenv(\"ALPACA_SECRET_KEY\")\n",
    "\n",
    "# Create the Alpaca tradeapi.REST object\n",
    "alpaca = tradeapi.REST(\n",
    "    alpaca_api_key,\n",
    "    alpaca_secret_key,\n",
    "    api_version=\"v2\")"
   ]
  },
  {
   "cell_type": "markdown",
   "metadata": {},
   "source": [
    "#### Step 3: Set the following parameters for the Alpaca API call:\n",
    "\n",
    "- `tickers`: Use the tickers for the member’s stock and bond holdings.\n",
    "\n",
    "- `timeframe`: Use a time frame of one day.\n",
    "\n",
    "- `start_date` and `end_date`: Use the same date for these parameters, and format them with the date of the previous weekday (or `2020-08-07`). This is because you want the one closing price for the most-recent trading day.\n"
   ]
  },
  {
   "cell_type": "code",
   "execution_count": 16,
   "metadata": {},
   "outputs": [],
   "source": [
    "# Set the tickers for both the bond and stock portion of the portfolio\n",
    "tickers = ['SPY','AGG']\n",
    "\n",
    "# Set timeframe to 1D \n",
    "timeframe = \"1D\"\n",
    "\n",
    "# Format the latest trading day as ISO format\n",
    "# Set both the start and end date at the date of your last weekday\n",
    "# This will give you the closing price of the previous trading day\n",
    "today = date.today()\n",
    "delta = timedelta(max(1,(today.weekday() + 6) % 7 - 3))\n",
    "last_week_day_string = str(today - delta).split()[0]\n",
    "today_string = str(today).split()[0]\n",
    "\n",
    "start_date = pd.Timestamp(last_week_day_string, tz=\"America/New_York\").isoformat()\n",
    "end_date = pd.Timestamp(last_week_day_string, tz=\"America/New_York\").isoformat()\n"
   ]
  },
  {
   "cell_type": "markdown",
   "metadata": {},
   "source": [
    "#### Step 4: Get the current closing prices for `SPY` and `AGG` by using the Alpaca `get_barset` function. Format the response as a Pandas DataFrame by including the `df` property at the end of the `get_barset` function."
   ]
  },
  {
   "cell_type": "code",
   "execution_count": 17,
   "metadata": {},
   "outputs": [
    {
     "data": {
      "text/html": [
       "<div>\n",
       "<style scoped>\n",
       "    .dataframe tbody tr th:only-of-type {\n",
       "        vertical-align: middle;\n",
       "    }\n",
       "\n",
       "    .dataframe tbody tr th {\n",
       "        vertical-align: top;\n",
       "    }\n",
       "\n",
       "    .dataframe thead tr th {\n",
       "        text-align: left;\n",
       "    }\n",
       "\n",
       "    .dataframe thead tr:last-of-type th {\n",
       "        text-align: right;\n",
       "    }\n",
       "</style>\n",
       "<table border=\"1\" class=\"dataframe\">\n",
       "  <thead>\n",
       "    <tr>\n",
       "      <th></th>\n",
       "      <th colspan=\"5\" halign=\"left\">AGG</th>\n",
       "      <th colspan=\"5\" halign=\"left\">SPY</th>\n",
       "    </tr>\n",
       "    <tr>\n",
       "      <th></th>\n",
       "      <th>open</th>\n",
       "      <th>high</th>\n",
       "      <th>low</th>\n",
       "      <th>close</th>\n",
       "      <th>volume</th>\n",
       "      <th>open</th>\n",
       "      <th>high</th>\n",
       "      <th>low</th>\n",
       "      <th>close</th>\n",
       "      <th>volume</th>\n",
       "    </tr>\n",
       "    <tr>\n",
       "      <th>time</th>\n",
       "      <th></th>\n",
       "      <th></th>\n",
       "      <th></th>\n",
       "      <th></th>\n",
       "      <th></th>\n",
       "      <th></th>\n",
       "      <th></th>\n",
       "      <th></th>\n",
       "      <th></th>\n",
       "      <th></th>\n",
       "    </tr>\n",
       "  </thead>\n",
       "  <tbody>\n",
       "    <tr>\n",
       "      <th>2022-01-07 00:00:00-05:00</th>\n",
       "      <td>112.69</td>\n",
       "      <td>112.705</td>\n",
       "      <td>112.34</td>\n",
       "      <td>112.5</td>\n",
       "      <td>8338975</td>\n",
       "      <td>467.95</td>\n",
       "      <td>469.2</td>\n",
       "      <td>464.65</td>\n",
       "      <td>466.12</td>\n",
       "      <td>67943055</td>\n",
       "    </tr>\n",
       "  </tbody>\n",
       "</table>\n",
       "</div>"
      ],
      "text/plain": [
       "                              AGG                                      SPY  \\\n",
       "                             open     high     low  close   volume    open   \n",
       "time                                                                         \n",
       "2022-01-07 00:00:00-05:00  112.69  112.705  112.34  112.5  8338975  467.95   \n",
       "\n",
       "                                                            \n",
       "                            high     low   close    volume  \n",
       "time                                                        \n",
       "2022-01-07 00:00:00-05:00  469.2  464.65  466.12  67943055  "
      ]
     },
     "execution_count": 17,
     "metadata": {},
     "output_type": "execute_result"
    }
   ],
   "source": [
    "# Use the Alpaca get_barset function to get current closing prices the portfolio\n",
    "# Be sure to set the `df` property after the function to format the response object as a DataFrame\n",
    "df_portfolio = alpaca.get_barset(\n",
    "    tickers,\n",
    "    timeframe,\n",
    "    start = start_date,\n",
    "    end = end_date\n",
    ").df\n",
    "\n",
    "# Review the first 5 rows of the Alpaca DataFrame\n",
    "df_portfolio.head(5)\n"
   ]
  },
  {
   "cell_type": "markdown",
   "metadata": {},
   "source": [
    "#### Step 5: Navigating the Alpaca response DataFrame, select the `SPY` and `AGG` closing prices, and store them as variables."
   ]
  },
  {
   "cell_type": "code",
   "execution_count": 18,
   "metadata": {},
   "outputs": [
    {
     "data": {
      "text/plain": [
       "time\n",
       "2022-01-07 00:00:00-05:00    112.5\n",
       "Name: close, dtype: float64"
      ]
     },
     "execution_count": 18,
     "metadata": {},
     "output_type": "execute_result"
    }
   ],
   "source": [
    "# Access the closing price for AGG from the Alpaca DataFrame\n",
    "# Converting the value to a floating point number\n",
    "agg_close_price = df_portfolio['AGG']['close']\n",
    "\n",
    "# Print the AGG closing price\n",
    "agg_close_price\n"
   ]
  },
  {
   "cell_type": "code",
   "execution_count": 19,
   "metadata": {},
   "outputs": [
    {
     "data": {
      "text/plain": [
       "time\n",
       "2022-01-07 00:00:00-05:00    466.12\n",
       "Name: close, dtype: float64"
      ]
     },
     "execution_count": 19,
     "metadata": {},
     "output_type": "execute_result"
    }
   ],
   "source": [
    "# Access the closing price for SPY from the Alpaca DataFrame\n",
    "# Converting the value to a floating point number\n",
    "spy_close_price = df_portfolio['SPY']['close']\n",
    "\n",
    "# Print the SPY closing price\n",
    "spy_close_price\n"
   ]
  },
  {
   "cell_type": "markdown",
   "metadata": {},
   "source": [
    "#### Step 6: Calculate the value, in US dollars, of the current amount of shares in each of the stock and bond portions of the portfolio, and print the results."
   ]
  },
  {
   "cell_type": "code",
   "execution_count": 20,
   "metadata": {},
   "outputs": [
    {
     "name": "stdout",
     "output_type": "stream",
     "text": [
      "The value of current AGG holdings is $ 22,500.00\n"
     ]
    }
   ],
   "source": [
    "# Calculate the current value of the bond portion of the portfolio\n",
    "agg_value = agg_close_price[-1] * agg_shares\n",
    "\n",
    "# Print the current value of the bond portfolio\n",
    "print(f\"The value of current AGG holdings is ${agg_value: ,.2f}\")\n"
   ]
  },
  {
   "cell_type": "code",
   "execution_count": 21,
   "metadata": {},
   "outputs": [
    {
     "name": "stdout",
     "output_type": "stream",
     "text": [
      "The value of current AGG holdings is $ 51,273.20\n"
     ]
    }
   ],
   "source": [
    "# Calculate the current value of the stock portion of the portfolio\n",
    "spy_value = spy_close_price[-1] * spy_shares\n",
    "\n",
    "# Print the prcurrent value of the stock portfolio\n",
    "print(f\"The value of current AGG holdings is ${spy_value: ,.2f}\")\n"
   ]
  },
  {
   "cell_type": "code",
   "execution_count": 22,
   "metadata": {},
   "outputs": [
    {
     "name": "stdout",
     "output_type": "stream",
     "text": [
      "The total value of stock and bond holdings is $ 73,773.20\n"
     ]
    }
   ],
   "source": [
    "# Calculate the total value of the stock and bond portion of the portfolio\n",
    "total_stocks_bonds = agg_value + spy_value\n",
    "\n",
    "# Print the current balance of the stock and bond portion of the portfolio\n",
    "print(f\"The total value of stock and bond holdings is ${total_stocks_bonds: ,.2f}\")\n"
   ]
  },
  {
   "cell_type": "code",
   "execution_count": 23,
   "metadata": {},
   "outputs": [
    {
     "name": "stdout",
     "output_type": "stream",
     "text": [
      "The total value of the portfolio is $ 140,876.56\n"
     ]
    }
   ],
   "source": [
    "# Calculate the total value of the member's entire savings portfolio\n",
    "# Add the value of the cryptocurrency walled to the value of the total stocks and bonds\n",
    "total_portfolio = total_crypto_wallet + total_stocks_bonds\n",
    "\n",
    "# Print current cryptocurrency wallet balance\n",
    "print(f\"The total value of the portfolio is ${total_portfolio: ,.2f}\")\n"
   ]
  },
  {
   "cell_type": "markdown",
   "metadata": {},
   "source": [
    "### Evaluate the Emergency Fund\n",
    "\n",
    "In this section, you’ll use the valuations for the cryptocurrency wallet and for the stock and bond portions of the portfolio to determine if the credit union member has enough savings to build an emergency fund into their financial plan. To do this, complete the following steps:\n",
    "\n",
    "1. Create a Python list named `savings_data` that has two elements. The first element contains the total value of the cryptocurrency wallet. The second element contains the total value of the stock and bond portions of the portfolio.\n",
    "\n",
    "2. Use the `savings_data` list to create a Pandas DataFrame named `savings_df`, and then display this DataFrame. The function to create the DataFrame should take the following three parameters:\n",
    "\n",
    "    - `savings_data`: Use the list that you just created.\n",
    "\n",
    "    - `columns`: Set this parameter equal to a Python list with a single value called `amount`.\n",
    "\n",
    "    - `index`: Set this parameter equal to a Python list with the values of `crypto` and `stock/bond`.\n",
    "\n",
    "3. Use the `savings_df` DataFrame to plot a pie chart that visualizes the composition of the member’s portfolio. The y-axis of the pie chart uses `amount`. Be sure to add a title.\n",
    "\n",
    "4. Using Python, determine if the current portfolio has enough to create an emergency fund as part of the member’s financial plan. Ideally, an emergency fund should equal to three times the member’s monthly income. To do this, implement the following steps:\n",
    "\n",
    "    1. Create a variable named `emergency_fund_value`, and set it equal to three times the value of the member’s `monthly_income` of $12000. (You set this earlier in Part 1).\n",
    "\n",
    "    2. Create a series of three if statements to determine if the member’s total portfolio is large enough to fund the emergency portfolio:\n",
    "\n",
    "        1. If the total portfolio value is greater than the emergency fund value, display a message congratulating the member for having enough money in this fund.\n",
    "\n",
    "        2. Else if the total portfolio value is equal to the emergency fund value, display a message congratulating the member on reaching this important financial goal.\n",
    "\n",
    "        3. Else the total portfolio is less than the emergency fund value, so display a message showing how many dollars away the member is from reaching the goal. (Subtract the total portfolio value from the emergency fund value.)\n"
   ]
  },
  {
   "cell_type": "markdown",
   "metadata": {},
   "source": [
    "#### Step 1: Create a Python list named `savings_data` that has two elements. The first element contains the total value of the cryptocurrency wallet. The second element contains the total value of the stock and bond portions of the portfolio."
   ]
  },
  {
   "cell_type": "code",
   "execution_count": 24,
   "metadata": {},
   "outputs": [
    {
     "data": {
      "text/plain": [
       "[67103.363, 73773.2]"
      ]
     },
     "execution_count": 24,
     "metadata": {},
     "output_type": "execute_result"
    }
   ],
   "source": [
    "# Consolidate financial assets data into a Python list\n",
    "savings_data = [total_crypto_wallet,total_stocks_bonds]\n",
    "\n",
    "# Review the Python list savings_data\n",
    "savings_data\n",
    "    "
   ]
  },
  {
   "cell_type": "markdown",
   "metadata": {},
   "source": [
    "#### Step 2: Use the `savings_data` list to create a Pandas DataFrame named `savings_df`, and then display this DataFrame. The function to create the DataFrame should take the following three parameters:\n",
    "\n",
    "- `savings_data`: Use the list that you just created.\n",
    "\n",
    "- `columns`: Set this parameter equal to a Python list with a single value called `amount`.\n",
    "\n",
    "- `index`: Set this parameter equal to a Python list with the values of `crypto` and `stock/bond`.\n"
   ]
  },
  {
   "cell_type": "code",
   "execution_count": 25,
   "metadata": {},
   "outputs": [
    {
     "data": {
      "text/html": [
       "<div>\n",
       "<style scoped>\n",
       "    .dataframe tbody tr th:only-of-type {\n",
       "        vertical-align: middle;\n",
       "    }\n",
       "\n",
       "    .dataframe tbody tr th {\n",
       "        vertical-align: top;\n",
       "    }\n",
       "\n",
       "    .dataframe thead th {\n",
       "        text-align: right;\n",
       "    }\n",
       "</style>\n",
       "<table border=\"1\" class=\"dataframe\">\n",
       "  <thead>\n",
       "    <tr style=\"text-align: right;\">\n",
       "      <th></th>\n",
       "      <th>Amount</th>\n",
       "    </tr>\n",
       "  </thead>\n",
       "  <tbody>\n",
       "    <tr>\n",
       "      <th>Crypto</th>\n",
       "      <td>67103.363</td>\n",
       "    </tr>\n",
       "    <tr>\n",
       "      <th>Stocks/Bonds</th>\n",
       "      <td>73773.200</td>\n",
       "    </tr>\n",
       "  </tbody>\n",
       "</table>\n",
       "</div>"
      ],
      "text/plain": [
       "                 Amount\n",
       "Crypto        67103.363\n",
       "Stocks/Bonds  73773.200"
      ]
     },
     "execution_count": 25,
     "metadata": {},
     "output_type": "execute_result"
    }
   ],
   "source": [
    "# Create a Pandas DataFrame called savings_df \n",
    "savings_df = pd.DataFrame(\n",
    "data = savings_data,\n",
    "columns = ['Amount'],\n",
    "index = ['Crypto','Stocks/Bonds'] )\n",
    "# Display the savings_df DataFrame\n",
    "savings_df.head()\n"
   ]
  },
  {
   "cell_type": "markdown",
   "metadata": {},
   "source": [
    "#### Step 3: Use the `savings_df` DataFrame to plot a pie chart that visualizes the composition of the member’s portfolio. The y-axis of the pie chart uses `amount`. Be sure to add a title."
   ]
  },
  {
   "cell_type": "code",
   "execution_count": 26,
   "metadata": {},
   "outputs": [
    {
     "data": {
      "text/plain": [
       "<AxesSubplot:title={'center':'Savings by Asset Type'}, ylabel='Amount'>"
      ]
     },
     "execution_count": 26,
     "metadata": {},
     "output_type": "execute_result"
    },
    {
     "data": {
      "image/png": "[encoded data removed]",
      "text/plain": [
       "<Figure size 504x504 with 1 Axes>"
      ]
     },
     "metadata": {},
     "output_type": "display_data"
    }
   ],
   "source": [
    "# Plot the total value of the member's portfolio (crypto and stock/bond) in a pie chart\n",
    "savings_df.plot.pie(y='Amount', rot=90, figsize=(7, 7), title = \"Savings by Asset Type\")\n"
   ]
  },
  {
   "cell_type": "markdown",
   "metadata": {},
   "source": [
    "#### Step 4: Using Python, determine if the current portfolio has enough to create an emergency fund as part of the member’s financial plan. Ideally, an emergency fund should equal to three times the member’s monthly income. To do this, implement the following steps:\n",
    "\n",
    "Step 1. Create a variable named `emergency_fund_value`, and set it equal to three times the value of the member’s `monthly_income` of 12000. (You set this earlier in Part 1).\n",
    "\n",
    "Step 2. Create a series of three if statements to determine if the member’s total portfolio is large enough to fund the emergency portfolio:\n",
    "\n",
    "* If the total portfolio value is greater than the emergency fund value, display a message congratulating the member for having enough money in this fund.\n",
    "\n",
    "* Else if the total portfolio value is equal to the emergency fund value, display a message congratulating the member on reaching this important financial goal.\n",
    "\n",
    "* Else the total portfolio is less than the emergency fund value, so display a message showing how many dollars away the member is from reaching the goal. (Subtract the total portfolio value from the emergency fund value.)\n"
   ]
  },
  {
   "cell_type": "markdown",
   "metadata": {},
   "source": [
    "##### Step 4-1: Create a variable named `emergency_fund_value`, and set it equal to three times the value of the member’s `monthly_income` of 12000. (You set this earlier in Part 1)."
   ]
  },
  {
   "cell_type": "code",
   "execution_count": 27,
   "metadata": {},
   "outputs": [],
   "source": [
    "# Create a variable named emergency_fund_value\n",
    "emergency_fund_value = 3 * monthly_income"
   ]
  },
  {
   "cell_type": "markdown",
   "metadata": {},
   "source": [
    "##### Step 4-2: Create a series of three if statements to determine if the member’s total portfolio is large enough to fund the emergency portfolio:\n",
    "\n",
    "* If the total portfolio value is greater than the emergency fund value, display a message congratulating the member for having enough money in this fund.\n",
    "\n",
    "* Else if the total portfolio value is equal to the emergency fund value, display a message congratulating the member on reaching this important financial goal.\n",
    "\n",
    "* Else the total portfolio is less than the emergency fund value, so display a message showing how many dollars away the member is from reaching the goal. (Subtract the total portfolio value from the emergency fund value.)"
   ]
  },
  {
   "cell_type": "code",
   "execution_count": 30,
   "metadata": {},
   "outputs": [
    {
     "name": "stdout",
     "output_type": "stream",
     "text": [
      "Congratulations. You have more than enough emergency savings.\n"
     ]
    }
   ],
   "source": [
    "# Evaluate the possibility of creating an emergency fund with 3 conditions:\n",
    "if total_portfolio > emergency_fund_value:\n",
    "    print(\"Congratulations. You have more than enough emergency savings.\")\n",
    "elif total_portfolio == emergency_fund_value:\n",
    "    print(\"Congratulations. You have reached your goal for emergency savings.\")\n",
    "else:\n",
    "    print(f\"You need to save ${emergency_fund_value - total_portfolio: ,.2f} more to reach your emergency savings goal.\")\n"
   ]
  },
  {
   "cell_type": "markdown",
   "metadata": {},
   "source": [
    "## Part 2: Create a Financial Planner for Retirement"
   ]
  },
  {
   "cell_type": "markdown",
   "metadata": {},
   "source": [
    "### Create the Monte Carlo Simulation\n",
    "\n",
    "In this section, you’ll use the MCForecastTools library to create a Monte Carlo simulation for the member’s savings portfolio. To do this, complete the following steps:\n",
    "\n",
    "1. Make an API call via the Alpaca SDK to get 3 years of historical closing prices for a traditional 60/40 portfolio split: 60% stocks (SPY) and 40% bonds (AGG).\n",
    "\n",
    "2. Run a Monte Carlo simulation of 500 samples and 30 years for the 60/40 portfolio, and then plot the results.The following image shows the overlay line plot resulting from a simulation with these characteristics. However, because a random number generator is used to run each live Monte Carlo simulation, your image will differ slightly from this exact image:\n",
    "\n",
    "![A screenshot depicts the resulting plot.](Images/5-4-monte-carlo-line-plot.png)\n",
    "\n",
    "3. Plot the probability distribution of the Monte Carlo simulation. Plot the probability distribution of the Monte Carlo simulation. The following image shows the histogram plot resulting from a simulation with these characteristics. However, because a random number generator is used to run each live Monte Carlo simulation, your image will differ slightly from this exact image:\n",
    "\n",
    "![A screenshot depicts the histogram plot.](Images/5-4-monte-carlo-histogram.png)\n",
    "\n",
    "4. Generate the summary statistics for the Monte Carlo simulation.\n",
    "\n"
   ]
  },
  {
   "cell_type": "markdown",
   "metadata": {},
   "source": [
    "#### Step 1: Make an API call via the Alpaca SDK to get 3 years of historical closing prices for a traditional 60/40 portfolio split: 60% stocks (SPY) and 40% bonds (AGG)."
   ]
  },
  {
   "cell_type": "code",
   "execution_count": 31,
   "metadata": {},
   "outputs": [],
   "source": [
    "# Set start and end dates of 3 years back from your current date\n",
    "# Alternatively, you can use an end date of 2020-08-07 and work 3 years back from that date \n",
    "\n",
    "three_years_ago = today - timedelta(365*3)\n",
    "three_years_ago_string = str(three_years_ago).split()[0]\n",
    "\n",
    "start_date = pd.Timestamp(three_years_ago_string, tz=\"America/New_York\").isoformat()\n",
    "end_date = pd.Timestamp(today_string, tz=\"America/New_York\").isoformat()\n",
    "\n",
    "# Set number of rows to 1000 to retrieve the maximum amount of rows\n",
    "limit_rows = 1000"
   ]
  },
  {
   "cell_type": "code",
   "execution_count": 32,
   "metadata": {},
   "outputs": [
    {
     "data": {
      "text/html": [
       "<div>\n",
       "<style scoped>\n",
       "    .dataframe tbody tr th:only-of-type {\n",
       "        vertical-align: middle;\n",
       "    }\n",
       "\n",
       "    .dataframe tbody tr th {\n",
       "        vertical-align: top;\n",
       "    }\n",
       "\n",
       "    .dataframe thead tr th {\n",
       "        text-align: left;\n",
       "    }\n",
       "\n",
       "    .dataframe thead tr:last-of-type th {\n",
       "        text-align: right;\n",
       "    }\n",
       "</style>\n",
       "<table border=\"1\" class=\"dataframe\">\n",
       "  <thead>\n",
       "    <tr>\n",
       "      <th></th>\n",
       "      <th colspan=\"5\" halign=\"left\">AGG</th>\n",
       "      <th colspan=\"5\" halign=\"left\">SPY</th>\n",
       "    </tr>\n",
       "    <tr>\n",
       "      <th></th>\n",
       "      <th>open</th>\n",
       "      <th>high</th>\n",
       "      <th>low</th>\n",
       "      <th>close</th>\n",
       "      <th>volume</th>\n",
       "      <th>open</th>\n",
       "      <th>high</th>\n",
       "      <th>low</th>\n",
       "      <th>close</th>\n",
       "      <th>volume</th>\n",
       "    </tr>\n",
       "    <tr>\n",
       "      <th>time</th>\n",
       "      <th></th>\n",
       "      <th></th>\n",
       "      <th></th>\n",
       "      <th></th>\n",
       "      <th></th>\n",
       "      <th></th>\n",
       "      <th></th>\n",
       "      <th></th>\n",
       "      <th></th>\n",
       "      <th></th>\n",
       "    </tr>\n",
       "  </thead>\n",
       "  <tbody>\n",
       "    <tr>\n",
       "      <th>2019-01-10 00:00:00-05:00</th>\n",
       "      <td>106.52</td>\n",
       "      <td>106.5600</td>\n",
       "      <td>106.33</td>\n",
       "      <td>106.385</td>\n",
       "      <td>3441214</td>\n",
       "      <td>256.26</td>\n",
       "      <td>259.1600</td>\n",
       "      <td>255.50</td>\n",
       "      <td>258.94</td>\n",
       "      <td>85909797</td>\n",
       "    </tr>\n",
       "    <tr>\n",
       "      <th>2019-01-11 00:00:00-05:00</th>\n",
       "      <td>106.58</td>\n",
       "      <td>106.6600</td>\n",
       "      <td>106.50</td>\n",
       "      <td>106.560</td>\n",
       "      <td>5638395</td>\n",
       "      <td>257.68</td>\n",
       "      <td>259.0098</td>\n",
       "      <td>257.03</td>\n",
       "      <td>258.76</td>\n",
       "      <td>60544770</td>\n",
       "    </tr>\n",
       "    <tr>\n",
       "      <th>2019-01-14 00:00:00-05:00</th>\n",
       "      <td>106.57</td>\n",
       "      <td>106.6099</td>\n",
       "      <td>106.40</td>\n",
       "      <td>106.440</td>\n",
       "      <td>6544627</td>\n",
       "      <td>256.86</td>\n",
       "      <td>258.3000</td>\n",
       "      <td>256.41</td>\n",
       "      <td>257.69</td>\n",
       "      <td>51552561</td>\n",
       "    </tr>\n",
       "    <tr>\n",
       "      <th>2019-01-15 00:00:00-05:00</th>\n",
       "      <td>106.54</td>\n",
       "      <td>106.5500</td>\n",
       "      <td>106.33</td>\n",
       "      <td>106.400</td>\n",
       "      <td>3370918</td>\n",
       "      <td>257.82</td>\n",
       "      <td>260.7000</td>\n",
       "      <td>257.25</td>\n",
       "      <td>260.21</td>\n",
       "      <td>72130969</td>\n",
       "    </tr>\n",
       "    <tr>\n",
       "      <th>2019-01-16 00:00:00-05:00</th>\n",
       "      <td>106.33</td>\n",
       "      <td>106.5200</td>\n",
       "      <td>105.75</td>\n",
       "      <td>106.475</td>\n",
       "      <td>3531236</td>\n",
       "      <td>260.83</td>\n",
       "      <td>261.9666</td>\n",
       "      <td>260.60</td>\n",
       "      <td>260.94</td>\n",
       "      <td>59299089</td>\n",
       "    </tr>\n",
       "  </tbody>\n",
       "</table>\n",
       "</div>"
      ],
      "text/plain": [
       "                              AGG                                         SPY  \\\n",
       "                             open      high     low    close   volume    open   \n",
       "time                                                                            \n",
       "2019-01-10 00:00:00-05:00  106.52  106.5600  106.33  106.385  3441214  256.26   \n",
       "2019-01-11 00:00:00-05:00  106.58  106.6600  106.50  106.560  5638395  257.68   \n",
       "2019-01-14 00:00:00-05:00  106.57  106.6099  106.40  106.440  6544627  256.86   \n",
       "2019-01-15 00:00:00-05:00  106.54  106.5500  106.33  106.400  3370918  257.82   \n",
       "2019-01-16 00:00:00-05:00  106.33  106.5200  105.75  106.475  3531236  260.83   \n",
       "\n",
       "                                                               \n",
       "                               high     low   close    volume  \n",
       "time                                                           \n",
       "2019-01-10 00:00:00-05:00  259.1600  255.50  258.94  85909797  \n",
       "2019-01-11 00:00:00-05:00  259.0098  257.03  258.76  60544770  \n",
       "2019-01-14 00:00:00-05:00  258.3000  256.41  257.69  51552561  \n",
       "2019-01-15 00:00:00-05:00  260.7000  257.25  260.21  72130969  \n",
       "2019-01-16 00:00:00-05:00  261.9666  260.60  260.94  59299089  "
      ]
     },
     "execution_count": 32,
     "metadata": {},
     "output_type": "execute_result"
    }
   ],
   "source": [
    "# Use the Alpaca get_barset function to make the API call to get the 3 years worth of pricing data\n",
    "# The tickers and timeframe parameters should have been set in Part 1 of this activity \n",
    "# The start and end dates should be updated with the information set above\n",
    "# Remember to add the df property to the end of the call so the response is returned as a DataFrame\n",
    "df_portfolio = alpaca.get_barset(\n",
    "    tickers,\n",
    "    timeframe,\n",
    "    start = start_date,\n",
    "    end = end_date,\n",
    "    limit=limit_rows\n",
    ").df\n",
    "\n",
    "\n",
    "# Display both the first and last five rows of the DataFrame\n",
    "df_portfolio.head(5)"
   ]
  },
  {
   "cell_type": "code",
   "execution_count": 33,
   "metadata": {},
   "outputs": [
    {
     "data": {
      "text/html": [
       "<div>\n",
       "<style scoped>\n",
       "    .dataframe tbody tr th:only-of-type {\n",
       "        vertical-align: middle;\n",
       "    }\n",
       "\n",
       "    .dataframe tbody tr th {\n",
       "        vertical-align: top;\n",
       "    }\n",
       "\n",
       "    .dataframe thead tr th {\n",
       "        text-align: left;\n",
       "    }\n",
       "\n",
       "    .dataframe thead tr:last-of-type th {\n",
       "        text-align: right;\n",
       "    }\n",
       "</style>\n",
       "<table border=\"1\" class=\"dataframe\">\n",
       "  <thead>\n",
       "    <tr>\n",
       "      <th></th>\n",
       "      <th colspan=\"5\" halign=\"left\">AGG</th>\n",
       "      <th colspan=\"5\" halign=\"left\">SPY</th>\n",
       "    </tr>\n",
       "    <tr>\n",
       "      <th></th>\n",
       "      <th>open</th>\n",
       "      <th>high</th>\n",
       "      <th>low</th>\n",
       "      <th>close</th>\n",
       "      <th>volume</th>\n",
       "      <th>open</th>\n",
       "      <th>high</th>\n",
       "      <th>low</th>\n",
       "      <th>close</th>\n",
       "      <th>volume</th>\n",
       "    </tr>\n",
       "    <tr>\n",
       "      <th>time</th>\n",
       "      <th></th>\n",
       "      <th></th>\n",
       "      <th></th>\n",
       "      <th></th>\n",
       "      <th></th>\n",
       "      <th></th>\n",
       "      <th></th>\n",
       "      <th></th>\n",
       "      <th></th>\n",
       "      <th></th>\n",
       "    </tr>\n",
       "  </thead>\n",
       "  <tbody>\n",
       "    <tr>\n",
       "      <th>2022-01-03 00:00:00-05:00</th>\n",
       "      <td>113.67</td>\n",
       "      <td>113.6753</td>\n",
       "      <td>113.310</td>\n",
       "      <td>113.31</td>\n",
       "      <td>8906643</td>\n",
       "      <td>476.32</td>\n",
       "      <td>477.85</td>\n",
       "      <td>473.8500</td>\n",
       "      <td>477.76</td>\n",
       "      <td>56128214</td>\n",
       "    </tr>\n",
       "    <tr>\n",
       "      <th>2022-01-04 00:00:00-05:00</th>\n",
       "      <td>113.22</td>\n",
       "      <td>113.3000</td>\n",
       "      <td>113.075</td>\n",
       "      <td>113.29</td>\n",
       "      <td>7615698</td>\n",
       "      <td>479.22</td>\n",
       "      <td>479.98</td>\n",
       "      <td>475.5800</td>\n",
       "      <td>477.51</td>\n",
       "      <td>59093344</td>\n",
       "    </tr>\n",
       "    <tr>\n",
       "      <th>2022-01-05 00:00:00-05:00</th>\n",
       "      <td>113.34</td>\n",
       "      <td>113.3600</td>\n",
       "      <td>112.900</td>\n",
       "      <td>112.93</td>\n",
       "      <td>7686662</td>\n",
       "      <td>477.16</td>\n",
       "      <td>477.98</td>\n",
       "      <td>468.2801</td>\n",
       "      <td>468.38</td>\n",
       "      <td>87411658</td>\n",
       "    </tr>\n",
       "    <tr>\n",
       "      <th>2022-01-06 00:00:00-05:00</th>\n",
       "      <td>112.75</td>\n",
       "      <td>112.8400</td>\n",
       "      <td>112.660</td>\n",
       "      <td>112.81</td>\n",
       "      <td>6812819</td>\n",
       "      <td>467.89</td>\n",
       "      <td>470.82</td>\n",
       "      <td>465.4300</td>\n",
       "      <td>467.93</td>\n",
       "      <td>78577470</td>\n",
       "    </tr>\n",
       "    <tr>\n",
       "      <th>2022-01-07 00:00:00-05:00</th>\n",
       "      <td>112.69</td>\n",
       "      <td>112.7050</td>\n",
       "      <td>112.340</td>\n",
       "      <td>112.50</td>\n",
       "      <td>8338975</td>\n",
       "      <td>467.95</td>\n",
       "      <td>469.20</td>\n",
       "      <td>464.6500</td>\n",
       "      <td>466.12</td>\n",
       "      <td>67943055</td>\n",
       "    </tr>\n",
       "  </tbody>\n",
       "</table>\n",
       "</div>"
      ],
      "text/plain": [
       "                              AGG                                         SPY  \\\n",
       "                             open      high      low   close   volume    open   \n",
       "time                                                                            \n",
       "2022-01-03 00:00:00-05:00  113.67  113.6753  113.310  113.31  8906643  476.32   \n",
       "2022-01-04 00:00:00-05:00  113.22  113.3000  113.075  113.29  7615698  479.22   \n",
       "2022-01-05 00:00:00-05:00  113.34  113.3600  112.900  112.93  7686662  477.16   \n",
       "2022-01-06 00:00:00-05:00  112.75  112.8400  112.660  112.81  6812819  467.89   \n",
       "2022-01-07 00:00:00-05:00  112.69  112.7050  112.340  112.50  8338975  467.95   \n",
       "\n",
       "                                                               \n",
       "                             high       low   close    volume  \n",
       "time                                                           \n",
       "2022-01-03 00:00:00-05:00  477.85  473.8500  477.76  56128214  \n",
       "2022-01-04 00:00:00-05:00  479.98  475.5800  477.51  59093344  \n",
       "2022-01-05 00:00:00-05:00  477.98  468.2801  468.38  87411658  \n",
       "2022-01-06 00:00:00-05:00  470.82  465.4300  467.93  78577470  \n",
       "2022-01-07 00:00:00-05:00  469.20  464.6500  466.12  67943055  "
      ]
     },
     "execution_count": 33,
     "metadata": {},
     "output_type": "execute_result"
    }
   ],
   "source": [
    "df_portfolio.tail(5)"
   ]
  },
  {
   "cell_type": "markdown",
   "metadata": {},
   "source": [
    "#### Step 2: Run a Monte Carlo simulation of 500 samples and 30 years for the 60/40 portfolio, and then plot the results."
   ]
  },
  {
   "cell_type": "code",
   "execution_count": 48,
   "metadata": {},
   "outputs": [
    {
     "data": {
      "text/html": [
       "<div>\n",
       "<style scoped>\n",
       "    .dataframe tbody tr th:only-of-type {\n",
       "        vertical-align: middle;\n",
       "    }\n",
       "\n",
       "    .dataframe tbody tr th {\n",
       "        vertical-align: top;\n",
       "    }\n",
       "\n",
       "    .dataframe thead tr th {\n",
       "        text-align: left;\n",
       "    }\n",
       "\n",
       "    .dataframe thead tr:last-of-type th {\n",
       "        text-align: right;\n",
       "    }\n",
       "</style>\n",
       "<table border=\"1\" class=\"dataframe\">\n",
       "  <thead>\n",
       "    <tr>\n",
       "      <th></th>\n",
       "      <th colspan=\"6\" halign=\"left\">AGG</th>\n",
       "      <th colspan=\"6\" halign=\"left\">SPY</th>\n",
       "    </tr>\n",
       "    <tr>\n",
       "      <th></th>\n",
       "      <th>open</th>\n",
       "      <th>high</th>\n",
       "      <th>low</th>\n",
       "      <th>close</th>\n",
       "      <th>volume</th>\n",
       "      <th>daily_return</th>\n",
       "      <th>open</th>\n",
       "      <th>high</th>\n",
       "      <th>low</th>\n",
       "      <th>close</th>\n",
       "      <th>volume</th>\n",
       "      <th>daily_return</th>\n",
       "    </tr>\n",
       "    <tr>\n",
       "      <th>time</th>\n",
       "      <th></th>\n",
       "      <th></th>\n",
       "      <th></th>\n",
       "      <th></th>\n",
       "      <th></th>\n",
       "      <th></th>\n",
       "      <th></th>\n",
       "      <th></th>\n",
       "      <th></th>\n",
       "      <th></th>\n",
       "      <th></th>\n",
       "      <th></th>\n",
       "    </tr>\n",
       "  </thead>\n",
       "  <tbody>\n",
       "    <tr>\n",
       "      <th>2019-01-10 00:00:00-05:00</th>\n",
       "      <td>106.52</td>\n",
       "      <td>106.5600</td>\n",
       "      <td>106.33</td>\n",
       "      <td>106.385</td>\n",
       "      <td>3441214</td>\n",
       "      <td>NaN</td>\n",
       "      <td>256.26</td>\n",
       "      <td>259.1600</td>\n",
       "      <td>255.50</td>\n",
       "      <td>258.94</td>\n",
       "      <td>85909797</td>\n",
       "      <td>NaN</td>\n",
       "    </tr>\n",
       "    <tr>\n",
       "      <th>2019-01-11 00:00:00-05:00</th>\n",
       "      <td>106.58</td>\n",
       "      <td>106.6600</td>\n",
       "      <td>106.50</td>\n",
       "      <td>106.560</td>\n",
       "      <td>5638395</td>\n",
       "      <td>0.001645</td>\n",
       "      <td>257.68</td>\n",
       "      <td>259.0098</td>\n",
       "      <td>257.03</td>\n",
       "      <td>258.76</td>\n",
       "      <td>60544770</td>\n",
       "      <td>-0.000695</td>\n",
       "    </tr>\n",
       "    <tr>\n",
       "      <th>2019-01-14 00:00:00-05:00</th>\n",
       "      <td>106.57</td>\n",
       "      <td>106.6099</td>\n",
       "      <td>106.40</td>\n",
       "      <td>106.440</td>\n",
       "      <td>6544627</td>\n",
       "      <td>-0.001126</td>\n",
       "      <td>256.86</td>\n",
       "      <td>258.3000</td>\n",
       "      <td>256.41</td>\n",
       "      <td>257.69</td>\n",
       "      <td>51552561</td>\n",
       "      <td>-0.004135</td>\n",
       "    </tr>\n",
       "    <tr>\n",
       "      <th>2019-01-15 00:00:00-05:00</th>\n",
       "      <td>106.54</td>\n",
       "      <td>106.5500</td>\n",
       "      <td>106.33</td>\n",
       "      <td>106.400</td>\n",
       "      <td>3370918</td>\n",
       "      <td>-0.000376</td>\n",
       "      <td>257.82</td>\n",
       "      <td>260.7000</td>\n",
       "      <td>257.25</td>\n",
       "      <td>260.21</td>\n",
       "      <td>72130969</td>\n",
       "      <td>0.009779</td>\n",
       "    </tr>\n",
       "    <tr>\n",
       "      <th>2019-01-16 00:00:00-05:00</th>\n",
       "      <td>106.33</td>\n",
       "      <td>106.5200</td>\n",
       "      <td>105.75</td>\n",
       "      <td>106.475</td>\n",
       "      <td>3531236</td>\n",
       "      <td>0.000705</td>\n",
       "      <td>260.83</td>\n",
       "      <td>261.9666</td>\n",
       "      <td>260.60</td>\n",
       "      <td>260.94</td>\n",
       "      <td>59299089</td>\n",
       "      <td>0.002805</td>\n",
       "    </tr>\n",
       "  </tbody>\n",
       "</table>\n",
       "</div>"
      ],
      "text/plain": [
       "                              AGG                                      \\\n",
       "                             open      high     low    close   volume   \n",
       "time                                                                    \n",
       "2019-01-10 00:00:00-05:00  106.52  106.5600  106.33  106.385  3441214   \n",
       "2019-01-11 00:00:00-05:00  106.58  106.6600  106.50  106.560  5638395   \n",
       "2019-01-14 00:00:00-05:00  106.57  106.6099  106.40  106.440  6544627   \n",
       "2019-01-15 00:00:00-05:00  106.54  106.5500  106.33  106.400  3370918   \n",
       "2019-01-16 00:00:00-05:00  106.33  106.5200  105.75  106.475  3531236   \n",
       "\n",
       "                                           SPY                            \\\n",
       "                          daily_return    open      high     low   close   \n",
       "time                                                                       \n",
       "2019-01-10 00:00:00-05:00          NaN  256.26  259.1600  255.50  258.94   \n",
       "2019-01-11 00:00:00-05:00     0.001645  257.68  259.0098  257.03  258.76   \n",
       "2019-01-14 00:00:00-05:00    -0.001126  256.86  258.3000  256.41  257.69   \n",
       "2019-01-15 00:00:00-05:00    -0.000376  257.82  260.7000  257.25  260.21   \n",
       "2019-01-16 00:00:00-05:00     0.000705  260.83  261.9666  260.60  260.94   \n",
       "\n",
       "                                                  \n",
       "                             volume daily_return  \n",
       "time                                              \n",
       "2019-01-10 00:00:00-05:00  85909797          NaN  \n",
       "2019-01-11 00:00:00-05:00  60544770    -0.000695  \n",
       "2019-01-14 00:00:00-05:00  51552561    -0.004135  \n",
       "2019-01-15 00:00:00-05:00  72130969     0.009779  \n",
       "2019-01-16 00:00:00-05:00  59299089     0.002805  "
      ]
     },
     "execution_count": 48,
     "metadata": {},
     "output_type": "execute_result"
    }
   ],
   "source": [
    "# Configure the Monte Carlo simulation to forecast 30 years cumulative returns\n",
    "MC_30year = MCSimulation(\n",
    "  portfolio_data = df_portfolio,\n",
    "  weights = [.40,.60],\n",
    "  num_simulation = 500,\n",
    "  num_trading_days = 252*30\n",
    ")\n",
    "\n",
    "# Review the simulation input data\n",
    "MC_30year.portfolio_data.head()"
   ]
  },
  {
   "cell_type": "code",
   "execution_count": 49,
   "metadata": {},
   "outputs": [
    {
     "name": "stdout",
     "output_type": "stream",
     "text": [
      "Running Monte Carlo simulation number 0.\n",
      "Running Monte Carlo simulation number 10.\n",
      "Running Monte Carlo simulation number 20.\n",
      "Running Monte Carlo simulation number 30.\n",
      "Running Monte Carlo simulation number 40.\n",
      "Running Monte Carlo simulation number 50.\n",
      "Running Monte Carlo simulation number 60.\n",
      "Running Monte Carlo simulation number 70.\n",
      "Running Monte Carlo simulation number 80.\n",
      "Running Monte Carlo simulation number 90.\n",
      "Running Monte Carlo simulation number 100.\n"
     ]
    },
    {
     "name": "stderr",
     "output_type": "stream",
     "text": [
      "C:\\Users\\racha\\desktop\\FinTech-Workspace\\Module_5_Challenge\\Financial_Planning_Tools\\MCForecastTools.py:117: PerformanceWarning: DataFrame is highly fragmented.  This is usually the result of calling `frame.insert` many times, which has poor performance.  Consider joining all columns at once using pd.concat(axis=1) instead.  To get a de-fragmented frame, use `newframe = frame.copy()`\n",
      "  portfolio_cumulative_returns[n] = (1 + sim_df.fillna(0)).cumprod()\n"
     ]
    },
    {
     "name": "stdout",
     "output_type": "stream",
     "text": [
      "Running Monte Carlo simulation number 110.\n",
      "Running Monte Carlo simulation number 120.\n",
      "Running Monte Carlo simulation number 130.\n",
      "Running Monte Carlo simulation number 140.\n",
      "Running Monte Carlo simulation number 150.\n",
      "Running Monte Carlo simulation number 160.\n",
      "Running Monte Carlo simulation number 170.\n",
      "Running Monte Carlo simulation number 180.\n",
      "Running Monte Carlo simulation number 190.\n",
      "Running Monte Carlo simulation number 200.\n",
      "Running Monte Carlo simulation number 210.\n",
      "Running Monte Carlo simulation number 220.\n",
      "Running Monte Carlo simulation number 230.\n",
      "Running Monte Carlo simulation number 240.\n",
      "Running Monte Carlo simulation number 250.\n",
      "Running Monte Carlo simulation number 260.\n",
      "Running Monte Carlo simulation number 270.\n",
      "Running Monte Carlo simulation number 280.\n",
      "Running Monte Carlo simulation number 290.\n",
      "Running Monte Carlo simulation number 300.\n",
      "Running Monte Carlo simulation number 310.\n",
      "Running Monte Carlo simulation number 320.\n",
      "Running Monte Carlo simulation number 330.\n",
      "Running Monte Carlo simulation number 340.\n",
      "Running Monte Carlo simulation number 350.\n",
      "Running Monte Carlo simulation number 360.\n",
      "Running Monte Carlo simulation number 370.\n",
      "Running Monte Carlo simulation number 380.\n",
      "Running Monte Carlo simulation number 390.\n",
      "Running Monte Carlo simulation number 400.\n",
      "Running Monte Carlo simulation number 410.\n",
      "Running Monte Carlo simulation number 420.\n",
      "Running Monte Carlo simulation number 430.\n",
      "Running Monte Carlo simulation number 440.\n",
      "Running Monte Carlo simulation number 450.\n",
      "Running Monte Carlo simulation number 460.\n",
      "Running Monte Carlo simulation number 470.\n",
      "Running Monte Carlo simulation number 480.\n",
      "Running Monte Carlo simulation number 490.\n"
     ]
    },
    {
     "data": {
      "text/html": [
       "<div>\n",
       "<style scoped>\n",
       "    .dataframe tbody tr th:only-of-type {\n",
       "        vertical-align: middle;\n",
       "    }\n",
       "\n",
       "    .dataframe tbody tr th {\n",
       "        vertical-align: top;\n",
       "    }\n",
       "\n",
       "    .dataframe thead th {\n",
       "        text-align: right;\n",
       "    }\n",
       "</style>\n",
       "<table border=\"1\" class=\"dataframe\">\n",
       "  <thead>\n",
       "    <tr style=\"text-align: right;\">\n",
       "      <th></th>\n",
       "      <th>0</th>\n",
       "      <th>1</th>\n",
       "      <th>2</th>\n",
       "      <th>3</th>\n",
       "      <th>4</th>\n",
       "      <th>5</th>\n",
       "      <th>6</th>\n",
       "      <th>7</th>\n",
       "      <th>8</th>\n",
       "      <th>9</th>\n",
       "      <th>...</th>\n",
       "      <th>490</th>\n",
       "      <th>491</th>\n",
       "      <th>492</th>\n",
       "      <th>493</th>\n",
       "      <th>494</th>\n",
       "      <th>495</th>\n",
       "      <th>496</th>\n",
       "      <th>497</th>\n",
       "      <th>498</th>\n",
       "      <th>499</th>\n",
       "    </tr>\n",
       "  </thead>\n",
       "  <tbody>\n",
       "    <tr>\n",
       "      <th>0</th>\n",
       "      <td>1.000000</td>\n",
       "      <td>1.000000</td>\n",
       "      <td>1.000000</td>\n",
       "      <td>1.000000</td>\n",
       "      <td>1.000000</td>\n",
       "      <td>1.000000</td>\n",
       "      <td>1.000000</td>\n",
       "      <td>1.000000</td>\n",
       "      <td>1.000000</td>\n",
       "      <td>1.000000</td>\n",
       "      <td>...</td>\n",
       "      <td>1.000000</td>\n",
       "      <td>1.000000</td>\n",
       "      <td>1.000000</td>\n",
       "      <td>1.000000</td>\n",
       "      <td>1.000000</td>\n",
       "      <td>1.000000</td>\n",
       "      <td>1.000000</td>\n",
       "      <td>1.000000</td>\n",
       "      <td>1.000000</td>\n",
       "      <td>1.000000</td>\n",
       "    </tr>\n",
       "    <tr>\n",
       "      <th>1</th>\n",
       "      <td>1.004002</td>\n",
       "      <td>0.992998</td>\n",
       "      <td>1.005562</td>\n",
       "      <td>0.998062</td>\n",
       "      <td>1.008282</td>\n",
       "      <td>0.990665</td>\n",
       "      <td>0.990101</td>\n",
       "      <td>0.983556</td>\n",
       "      <td>0.991259</td>\n",
       "      <td>1.005881</td>\n",
       "      <td>...</td>\n",
       "      <td>0.992967</td>\n",
       "      <td>0.993860</td>\n",
       "      <td>0.981739</td>\n",
       "      <td>1.001454</td>\n",
       "      <td>1.018234</td>\n",
       "      <td>1.008180</td>\n",
       "      <td>1.005642</td>\n",
       "      <td>0.999210</td>\n",
       "      <td>1.004565</td>\n",
       "      <td>1.014020</td>\n",
       "    </tr>\n",
       "    <tr>\n",
       "      <th>2</th>\n",
       "      <td>1.002892</td>\n",
       "      <td>0.988206</td>\n",
       "      <td>1.009376</td>\n",
       "      <td>0.976442</td>\n",
       "      <td>0.985889</td>\n",
       "      <td>0.984189</td>\n",
       "      <td>1.011431</td>\n",
       "      <td>0.980323</td>\n",
       "      <td>0.991839</td>\n",
       "      <td>1.008586</td>\n",
       "      <td>...</td>\n",
       "      <td>0.988850</td>\n",
       "      <td>0.994056</td>\n",
       "      <td>0.973702</td>\n",
       "      <td>1.003229</td>\n",
       "      <td>1.019302</td>\n",
       "      <td>1.006889</td>\n",
       "      <td>1.000671</td>\n",
       "      <td>1.004092</td>\n",
       "      <td>1.016002</td>\n",
       "      <td>1.016540</td>\n",
       "    </tr>\n",
       "    <tr>\n",
       "      <th>3</th>\n",
       "      <td>1.005179</td>\n",
       "      <td>0.998399</td>\n",
       "      <td>0.999955</td>\n",
       "      <td>0.979147</td>\n",
       "      <td>0.981315</td>\n",
       "      <td>0.978355</td>\n",
       "      <td>1.014676</td>\n",
       "      <td>0.991020</td>\n",
       "      <td>1.000847</td>\n",
       "      <td>1.004028</td>\n",
       "      <td>...</td>\n",
       "      <td>0.973227</td>\n",
       "      <td>1.003971</td>\n",
       "      <td>0.980737</td>\n",
       "      <td>1.017549</td>\n",
       "      <td>1.032158</td>\n",
       "      <td>1.003413</td>\n",
       "      <td>0.997808</td>\n",
       "      <td>1.012394</td>\n",
       "      <td>1.010866</td>\n",
       "      <td>1.022256</td>\n",
       "    </tr>\n",
       "    <tr>\n",
       "      <th>4</th>\n",
       "      <td>1.003753</td>\n",
       "      <td>1.000831</td>\n",
       "      <td>1.012835</td>\n",
       "      <td>0.980576</td>\n",
       "      <td>0.970929</td>\n",
       "      <td>0.971881</td>\n",
       "      <td>1.014261</td>\n",
       "      <td>0.983300</td>\n",
       "      <td>0.985262</td>\n",
       "      <td>1.004823</td>\n",
       "      <td>...</td>\n",
       "      <td>0.984393</td>\n",
       "      <td>1.016269</td>\n",
       "      <td>0.973748</td>\n",
       "      <td>1.026610</td>\n",
       "      <td>1.007020</td>\n",
       "      <td>1.010316</td>\n",
       "      <td>0.990718</td>\n",
       "      <td>1.032056</td>\n",
       "      <td>1.006255</td>\n",
       "      <td>1.014958</td>\n",
       "    </tr>\n",
       "    <tr>\n",
       "      <th>...</th>\n",
       "      <td>...</td>\n",
       "      <td>...</td>\n",
       "      <td>...</td>\n",
       "      <td>...</td>\n",
       "      <td>...</td>\n",
       "      <td>...</td>\n",
       "      <td>...</td>\n",
       "      <td>...</td>\n",
       "      <td>...</td>\n",
       "      <td>...</td>\n",
       "      <td>...</td>\n",
       "      <td>...</td>\n",
       "      <td>...</td>\n",
       "      <td>...</td>\n",
       "      <td>...</td>\n",
       "      <td>...</td>\n",
       "      <td>...</td>\n",
       "      <td>...</td>\n",
       "      <td>...</td>\n",
       "      <td>...</td>\n",
       "      <td>...</td>\n",
       "    </tr>\n",
       "    <tr>\n",
       "      <th>7556</th>\n",
       "      <td>43.100896</td>\n",
       "      <td>35.269658</td>\n",
       "      <td>57.602188</td>\n",
       "      <td>40.230656</td>\n",
       "      <td>44.238433</td>\n",
       "      <td>18.353098</td>\n",
       "      <td>95.614219</td>\n",
       "      <td>83.239949</td>\n",
       "      <td>11.613828</td>\n",
       "      <td>66.858736</td>\n",
       "      <td>...</td>\n",
       "      <td>93.244859</td>\n",
       "      <td>53.543785</td>\n",
       "      <td>73.303196</td>\n",
       "      <td>25.972120</td>\n",
       "      <td>39.937295</td>\n",
       "      <td>60.753644</td>\n",
       "      <td>81.084422</td>\n",
       "      <td>61.519286</td>\n",
       "      <td>34.326049</td>\n",
       "      <td>112.072256</td>\n",
       "    </tr>\n",
       "    <tr>\n",
       "      <th>7557</th>\n",
       "      <td>43.427680</td>\n",
       "      <td>35.444617</td>\n",
       "      <td>58.249001</td>\n",
       "      <td>40.151971</td>\n",
       "      <td>43.992718</td>\n",
       "      <td>18.325412</td>\n",
       "      <td>93.718399</td>\n",
       "      <td>83.820378</td>\n",
       "      <td>11.529275</td>\n",
       "      <td>66.390570</td>\n",
       "      <td>...</td>\n",
       "      <td>94.044605</td>\n",
       "      <td>54.096556</td>\n",
       "      <td>74.407396</td>\n",
       "      <td>25.698383</td>\n",
       "      <td>40.158072</td>\n",
       "      <td>61.902011</td>\n",
       "      <td>80.673945</td>\n",
       "      <td>62.417403</td>\n",
       "      <td>34.165543</td>\n",
       "      <td>111.230306</td>\n",
       "    </tr>\n",
       "    <tr>\n",
       "      <th>7558</th>\n",
       "      <td>43.347630</td>\n",
       "      <td>35.423139</td>\n",
       "      <td>58.477588</td>\n",
       "      <td>39.963826</td>\n",
       "      <td>43.699810</td>\n",
       "      <td>18.119507</td>\n",
       "      <td>94.210537</td>\n",
       "      <td>83.584795</td>\n",
       "      <td>11.509697</td>\n",
       "      <td>67.588028</td>\n",
       "      <td>...</td>\n",
       "      <td>93.071885</td>\n",
       "      <td>54.110498</td>\n",
       "      <td>74.385693</td>\n",
       "      <td>25.662806</td>\n",
       "      <td>39.909072</td>\n",
       "      <td>61.750000</td>\n",
       "      <td>81.923331</td>\n",
       "      <td>62.475696</td>\n",
       "      <td>34.393554</td>\n",
       "      <td>112.109669</td>\n",
       "    </tr>\n",
       "    <tr>\n",
       "      <th>7559</th>\n",
       "      <td>43.151783</td>\n",
       "      <td>35.433936</td>\n",
       "      <td>58.083125</td>\n",
       "      <td>40.392494</td>\n",
       "      <td>43.778697</td>\n",
       "      <td>17.918015</td>\n",
       "      <td>94.179816</td>\n",
       "      <td>83.817902</td>\n",
       "      <td>11.548547</td>\n",
       "      <td>67.999409</td>\n",
       "      <td>...</td>\n",
       "      <td>92.616813</td>\n",
       "      <td>54.468647</td>\n",
       "      <td>74.967150</td>\n",
       "      <td>25.678778</td>\n",
       "      <td>39.707604</td>\n",
       "      <td>61.824130</td>\n",
       "      <td>82.423057</td>\n",
       "      <td>62.225125</td>\n",
       "      <td>34.554736</td>\n",
       "      <td>110.416225</td>\n",
       "    </tr>\n",
       "    <tr>\n",
       "      <th>7560</th>\n",
       "      <td>43.429249</td>\n",
       "      <td>35.676020</td>\n",
       "      <td>57.819678</td>\n",
       "      <td>39.835099</td>\n",
       "      <td>43.765396</td>\n",
       "      <td>17.988060</td>\n",
       "      <td>92.606096</td>\n",
       "      <td>84.082659</td>\n",
       "      <td>11.525647</td>\n",
       "      <td>67.916384</td>\n",
       "      <td>...</td>\n",
       "      <td>92.656718</td>\n",
       "      <td>54.484535</td>\n",
       "      <td>75.147613</td>\n",
       "      <td>26.079415</td>\n",
       "      <td>38.984883</td>\n",
       "      <td>61.903000</td>\n",
       "      <td>82.977208</td>\n",
       "      <td>61.861796</td>\n",
       "      <td>34.122591</td>\n",
       "      <td>112.361587</td>\n",
       "    </tr>\n",
       "  </tbody>\n",
       "</table>\n",
       "<p>7561 rows × 500 columns</p>\n",
       "</div>"
      ],
      "text/plain": [
       "            0          1          2          3          4          5    \\\n",
       "0      1.000000   1.000000   1.000000   1.000000   1.000000   1.000000   \n",
       "1      1.004002   0.992998   1.005562   0.998062   1.008282   0.990665   \n",
       "2      1.002892   0.988206   1.009376   0.976442   0.985889   0.984189   \n",
       "3      1.005179   0.998399   0.999955   0.979147   0.981315   0.978355   \n",
       "4      1.003753   1.000831   1.012835   0.980576   0.970929   0.971881   \n",
       "...         ...        ...        ...        ...        ...        ...   \n",
       "7556  43.100896  35.269658  57.602188  40.230656  44.238433  18.353098   \n",
       "7557  43.427680  35.444617  58.249001  40.151971  43.992718  18.325412   \n",
       "7558  43.347630  35.423139  58.477588  39.963826  43.699810  18.119507   \n",
       "7559  43.151783  35.433936  58.083125  40.392494  43.778697  17.918015   \n",
       "7560  43.429249  35.676020  57.819678  39.835099  43.765396  17.988060   \n",
       "\n",
       "            6          7          8          9    ...        490        491  \\\n",
       "0      1.000000   1.000000   1.000000   1.000000  ...   1.000000   1.000000   \n",
       "1      0.990101   0.983556   0.991259   1.005881  ...   0.992967   0.993860   \n",
       "2      1.011431   0.980323   0.991839   1.008586  ...   0.988850   0.994056   \n",
       "3      1.014676   0.991020   1.000847   1.004028  ...   0.973227   1.003971   \n",
       "4      1.014261   0.983300   0.985262   1.004823  ...   0.984393   1.016269   \n",
       "...         ...        ...        ...        ...  ...        ...        ...   \n",
       "7556  95.614219  83.239949  11.613828  66.858736  ...  93.244859  53.543785   \n",
       "7557  93.718399  83.820378  11.529275  66.390570  ...  94.044605  54.096556   \n",
       "7558  94.210537  83.584795  11.509697  67.588028  ...  93.071885  54.110498   \n",
       "7559  94.179816  83.817902  11.548547  67.999409  ...  92.616813  54.468647   \n",
       "7560  92.606096  84.082659  11.525647  67.916384  ...  92.656718  54.484535   \n",
       "\n",
       "            492        493        494        495        496        497  \\\n",
       "0      1.000000   1.000000   1.000000   1.000000   1.000000   1.000000   \n",
       "1      0.981739   1.001454   1.018234   1.008180   1.005642   0.999210   \n",
       "2      0.973702   1.003229   1.019302   1.006889   1.000671   1.004092   \n",
       "3      0.980737   1.017549   1.032158   1.003413   0.997808   1.012394   \n",
       "4      0.973748   1.026610   1.007020   1.010316   0.990718   1.032056   \n",
       "...         ...        ...        ...        ...        ...        ...   \n",
       "7556  73.303196  25.972120  39.937295  60.753644  81.084422  61.519286   \n",
       "7557  74.407396  25.698383  40.158072  61.902011  80.673945  62.417403   \n",
       "7558  74.385693  25.662806  39.909072  61.750000  81.923331  62.475696   \n",
       "7559  74.967150  25.678778  39.707604  61.824130  82.423057  62.225125   \n",
       "7560  75.147613  26.079415  38.984883  61.903000  82.977208  61.861796   \n",
       "\n",
       "            498         499  \n",
       "0      1.000000    1.000000  \n",
       "1      1.004565    1.014020  \n",
       "2      1.016002    1.016540  \n",
       "3      1.010866    1.022256  \n",
       "4      1.006255    1.014958  \n",
       "...         ...         ...  \n",
       "7556  34.326049  112.072256  \n",
       "7557  34.165543  111.230306  \n",
       "7558  34.393554  112.109669  \n",
       "7559  34.554736  110.416225  \n",
       "7560  34.122591  112.361587  \n",
       "\n",
       "[7561 rows x 500 columns]"
      ]
     },
     "execution_count": 49,
     "metadata": {},
     "output_type": "execute_result"
    }
   ],
   "source": [
    "# Run the Monte Carlo simulation to forecast 30 years cumulative returns\n",
    "MC_30year.calc_cumulative_return()\n"
   ]
  },
  {
   "cell_type": "code",
   "execution_count": 50,
   "metadata": {},
   "outputs": [
    {
     "data": {
      "image/png": "[encoded data removed]",
      "text/plain": [
       "<Figure size 432x288 with 1 Axes>"
      ]
     },
     "metadata": {
      "needs_background": "light"
     },
     "output_type": "display_data"
    }
   ],
   "source": [
    "# Visualize the 30-year Monte Carlo simulation by creating an\n",
    "# overlay line plot\n",
    "# Plot simulation outcomes\n",
    "MC_sim_line_plot = MC_30year.plot_simulation()\n",
    "\n",
    "# Save the plot for future use\n",
    "MC_sim_line_plot.get_figure().savefig(\"MC_30year_sim_plot.png\", bbox_inches=\"tight\")\n"
   ]
  },
  {
   "cell_type": "markdown",
   "metadata": {},
   "source": [
    "#### Step 3: Plot the probability distribution of the Monte Carlo simulation."
   ]
  },
  {
   "cell_type": "code",
   "execution_count": 51,
   "metadata": {},
   "outputs": [
    {
     "data": {
      "image/png": "[encoded data removed]",
      "text/plain": [
       "<Figure size 432x288 with 1 Axes>"
      ]
     },
     "metadata": {
      "needs_background": "light"
     },
     "output_type": "display_data"
    }
   ],
   "source": [
    "# Visualize the probability distribution of the 30-year Monte Carlo simulation \n",
    "# by plotting a histogram\n",
    "# Plot probability distribution and confidence intervals\n",
    "MC_sim_dist_plot = MC_30year.plot_distribution()\n",
    "\n",
    "# Save the plot for future use\n",
    "MC_sim_dist_plot.get_figure().savefig('MC_30year_dist_plot.png',bbox_inches='tight')\n"
   ]
  },
  {
   "cell_type": "markdown",
   "metadata": {},
   "source": [
    "#### Step 4: Generate the summary statistics for the Monte Carlo simulation."
   ]
  },
  {
   "cell_type": "code",
   "execution_count": 52,
   "metadata": {},
   "outputs": [
    {
     "name": "stdout",
     "output_type": "stream",
     "text": [
      "count           500.000000\n",
      "mean             66.802988\n",
      "std              58.177954\n",
      "min               5.124987\n",
      "25%              33.208571\n",
      "50%              51.740598\n",
      "75%              77.492296\n",
      "max             756.790118\n",
      "95% CI Lower     13.007801\n",
      "95% CI Upper    207.411727\n",
      "Name: 7560, dtype: float64\n"
     ]
    }
   ],
   "source": [
    "# Generate summary statistics from the 30-year Monte Carlo simulation results\n",
    "# Save the results as a variable\n",
    "MC_summary_statistics = MC_30year.summarize_cumulative_return()\n",
    "\n",
    "# Print summary statistics Series\n",
    "print(MC_summary_statistics)"
   ]
  },
  {
   "cell_type": "markdown",
   "metadata": {},
   "source": [
    "### Analyze the Retirement Portfolio Forecasts\n",
    "\n",
    "Using the current value of only the stock and bond portion of the member's portfolio and the summary statistics that you generated from the Monte Carlo simulation, answer the following question in your Jupyter notebook:\n",
    "\n",
    "-  What are the lower and upper bounds for the expected value of the portfolio with a 95% confidence interval?\n"
   ]
  },
  {
   "cell_type": "code",
   "execution_count": 53,
   "metadata": {},
   "outputs": [
    {
     "name": "stdout",
     "output_type": "stream",
     "text": [
      "The total value of stock and bond holdings is $ 73,773.20\n"
     ]
    }
   ],
   "source": [
    "# Print the current balance of the stock and bond portion of the members portfolio\n",
    "print(f\"The total value of stock and bond holdings is ${total_stocks_bonds: ,.2f}\")\n"
   ]
  },
  {
   "cell_type": "code",
   "execution_count": 54,
   "metadata": {},
   "outputs": [
    {
     "name": "stdout",
     "output_type": "stream",
     "text": [
      "There is a 95% chance that this portfolio over the next 30 years will end within in the range of $ 959,627.08 and $ 15,301,426.85.\n"
     ]
    }
   ],
   "source": [
    "# Use the lower and upper `95%` confidence intervals to calculate the range of the possible outcomes for the current stock/bond portfolio\n",
    "ci_lower_thirty_cumulative_return = MC_summary_statistics[8] * total_stocks_bonds\n",
    "ci_upper_thirty_cumulative_return = MC_summary_statistics[9] * total_stocks_bonds\n",
    "\n",
    "# Print the result of your calculations\n",
    "# Print results\n",
    "print(f\"There is a 95% chance that this portfolio\"\n",
    "  f\" over the next 30 years will end within in the range of\"\n",
    "  f\" ${ci_lower_thirty_cumulative_return: ,.2f} and ${ci_upper_thirty_cumulative_return: ,.2f}.\")\n"
   ]
  },
  {
   "cell_type": "markdown",
   "metadata": {},
   "source": [
    "### Forecast Cumulative Returns in 10 Years\n",
    "\n",
    "The CTO of the credit union is impressed with your work on these planning tools but wonders if 30 years is a long time to wait until retirement. So, your next task is to adjust the retirement portfolio and run a new Monte Carlo simulation to find out if the changes will allow members to retire earlier.\n",
    "\n",
    "For this new Monte Carlo simulation, do the following: \n",
    "\n",
    "- Forecast the cumulative returns for 10 years from now. Because of the shortened investment horizon (30 years to 10 years), the portfolio needs to invest more heavily in the riskier asset&mdash;that is, stock&mdash;to help accumulate wealth for retirement. \n",
    "\n",
    "- Adjust the weights of the retirement portfolio so that the composition for the Monte Carlo simulation consists of 20% bonds and 80% stocks. \n",
    "\n",
    "- Run the simulation over 500 samples, and use the same data that the API call to Alpaca generated.\n",
    "\n",
    "- Based on the new Monte Carlo simulation, answer the following questions in your Jupyter notebook:\n",
    "\n",
    "    - Using the current value of only the stock and bond portion of the member's portfolio and the summary statistics that you generated from the new Monte Carlo simulation, what are the lower and upper bounds for the expected value of the portfolio (with the new weights) with a 95% confidence interval?\n",
    "\n",
    "    - Will weighting the portfolio more heavily toward stocks allow the credit union members to retire after only 10 years?\n"
   ]
  },
  {
   "cell_type": "code",
   "execution_count": 56,
   "metadata": {},
   "outputs": [
    {
     "data": {
      "text/html": [
       "<div>\n",
       "<style scoped>\n",
       "    .dataframe tbody tr th:only-of-type {\n",
       "        vertical-align: middle;\n",
       "    }\n",
       "\n",
       "    .dataframe tbody tr th {\n",
       "        vertical-align: top;\n",
       "    }\n",
       "\n",
       "    .dataframe thead tr th {\n",
       "        text-align: left;\n",
       "    }\n",
       "\n",
       "    .dataframe thead tr:last-of-type th {\n",
       "        text-align: right;\n",
       "    }\n",
       "</style>\n",
       "<table border=\"1\" class=\"dataframe\">\n",
       "  <thead>\n",
       "    <tr>\n",
       "      <th></th>\n",
       "      <th colspan=\"6\" halign=\"left\">AGG</th>\n",
       "      <th colspan=\"6\" halign=\"left\">SPY</th>\n",
       "    </tr>\n",
       "    <tr>\n",
       "      <th></th>\n",
       "      <th>open</th>\n",
       "      <th>high</th>\n",
       "      <th>low</th>\n",
       "      <th>close</th>\n",
       "      <th>volume</th>\n",
       "      <th>daily_return</th>\n",
       "      <th>open</th>\n",
       "      <th>high</th>\n",
       "      <th>low</th>\n",
       "      <th>close</th>\n",
       "      <th>volume</th>\n",
       "      <th>daily_return</th>\n",
       "    </tr>\n",
       "    <tr>\n",
       "      <th>time</th>\n",
       "      <th></th>\n",
       "      <th></th>\n",
       "      <th></th>\n",
       "      <th></th>\n",
       "      <th></th>\n",
       "      <th></th>\n",
       "      <th></th>\n",
       "      <th></th>\n",
       "      <th></th>\n",
       "      <th></th>\n",
       "      <th></th>\n",
       "      <th></th>\n",
       "    </tr>\n",
       "  </thead>\n",
       "  <tbody>\n",
       "    <tr>\n",
       "      <th>2019-01-10 00:00:00-05:00</th>\n",
       "      <td>106.52</td>\n",
       "      <td>106.5600</td>\n",
       "      <td>106.33</td>\n",
       "      <td>106.385</td>\n",
       "      <td>3441214</td>\n",
       "      <td>NaN</td>\n",
       "      <td>256.26</td>\n",
       "      <td>259.1600</td>\n",
       "      <td>255.50</td>\n",
       "      <td>258.94</td>\n",
       "      <td>85909797</td>\n",
       "      <td>NaN</td>\n",
       "    </tr>\n",
       "    <tr>\n",
       "      <th>2019-01-11 00:00:00-05:00</th>\n",
       "      <td>106.58</td>\n",
       "      <td>106.6600</td>\n",
       "      <td>106.50</td>\n",
       "      <td>106.560</td>\n",
       "      <td>5638395</td>\n",
       "      <td>0.001645</td>\n",
       "      <td>257.68</td>\n",
       "      <td>259.0098</td>\n",
       "      <td>257.03</td>\n",
       "      <td>258.76</td>\n",
       "      <td>60544770</td>\n",
       "      <td>-0.000695</td>\n",
       "    </tr>\n",
       "    <tr>\n",
       "      <th>2019-01-14 00:00:00-05:00</th>\n",
       "      <td>106.57</td>\n",
       "      <td>106.6099</td>\n",
       "      <td>106.40</td>\n",
       "      <td>106.440</td>\n",
       "      <td>6544627</td>\n",
       "      <td>-0.001126</td>\n",
       "      <td>256.86</td>\n",
       "      <td>258.3000</td>\n",
       "      <td>256.41</td>\n",
       "      <td>257.69</td>\n",
       "      <td>51552561</td>\n",
       "      <td>-0.004135</td>\n",
       "    </tr>\n",
       "    <tr>\n",
       "      <th>2019-01-15 00:00:00-05:00</th>\n",
       "      <td>106.54</td>\n",
       "      <td>106.5500</td>\n",
       "      <td>106.33</td>\n",
       "      <td>106.400</td>\n",
       "      <td>3370918</td>\n",
       "      <td>-0.000376</td>\n",
       "      <td>257.82</td>\n",
       "      <td>260.7000</td>\n",
       "      <td>257.25</td>\n",
       "      <td>260.21</td>\n",
       "      <td>72130969</td>\n",
       "      <td>0.009779</td>\n",
       "    </tr>\n",
       "    <tr>\n",
       "      <th>2019-01-16 00:00:00-05:00</th>\n",
       "      <td>106.33</td>\n",
       "      <td>106.5200</td>\n",
       "      <td>105.75</td>\n",
       "      <td>106.475</td>\n",
       "      <td>3531236</td>\n",
       "      <td>0.000705</td>\n",
       "      <td>260.83</td>\n",
       "      <td>261.9666</td>\n",
       "      <td>260.60</td>\n",
       "      <td>260.94</td>\n",
       "      <td>59299089</td>\n",
       "      <td>0.002805</td>\n",
       "    </tr>\n",
       "  </tbody>\n",
       "</table>\n",
       "</div>"
      ],
      "text/plain": [
       "                              AGG                                      \\\n",
       "                             open      high     low    close   volume   \n",
       "time                                                                    \n",
       "2019-01-10 00:00:00-05:00  106.52  106.5600  106.33  106.385  3441214   \n",
       "2019-01-11 00:00:00-05:00  106.58  106.6600  106.50  106.560  5638395   \n",
       "2019-01-14 00:00:00-05:00  106.57  106.6099  106.40  106.440  6544627   \n",
       "2019-01-15 00:00:00-05:00  106.54  106.5500  106.33  106.400  3370918   \n",
       "2019-01-16 00:00:00-05:00  106.33  106.5200  105.75  106.475  3531236   \n",
       "\n",
       "                                           SPY                            \\\n",
       "                          daily_return    open      high     low   close   \n",
       "time                                                                       \n",
       "2019-01-10 00:00:00-05:00          NaN  256.26  259.1600  255.50  258.94   \n",
       "2019-01-11 00:00:00-05:00     0.001645  257.68  259.0098  257.03  258.76   \n",
       "2019-01-14 00:00:00-05:00    -0.001126  256.86  258.3000  256.41  257.69   \n",
       "2019-01-15 00:00:00-05:00    -0.000376  257.82  260.7000  257.25  260.21   \n",
       "2019-01-16 00:00:00-05:00     0.000705  260.83  261.9666  260.60  260.94   \n",
       "\n",
       "                                                  \n",
       "                             volume daily_return  \n",
       "time                                              \n",
       "2019-01-10 00:00:00-05:00  85909797          NaN  \n",
       "2019-01-11 00:00:00-05:00  60544770    -0.000695  \n",
       "2019-01-14 00:00:00-05:00  51552561    -0.004135  \n",
       "2019-01-15 00:00:00-05:00  72130969     0.009779  \n",
       "2019-01-16 00:00:00-05:00  59299089     0.002805  "
      ]
     },
     "execution_count": 56,
     "metadata": {},
     "output_type": "execute_result"
    }
   ],
   "source": [
    "# Configure a Monte Carlo simulation to forecast 10 years cumulative returns\n",
    "# The weights should be split 20% to AGG and 80% to SPY.\n",
    "\n",
    "MC_10year = MCSimulation(\n",
    "  portfolio_data = df_portfolio,\n",
    "  weights = [.20,.80],\n",
    "  num_simulation = 500,\n",
    "  num_trading_days = 252*10\n",
    ")\n",
    "\n",
    "# Review the simulation input data\n",
    "MC_10year.portfolio_data.head()"
   ]
  },
  {
   "cell_type": "code",
   "execution_count": 57,
   "metadata": {},
   "outputs": [
    {
     "name": "stdout",
     "output_type": "stream",
     "text": [
      "Running Monte Carlo simulation number 0.\n",
      "Running Monte Carlo simulation number 10.\n",
      "Running Monte Carlo simulation number 20.\n",
      "Running Monte Carlo simulation number 30.\n",
      "Running Monte Carlo simulation number 40.\n",
      "Running Monte Carlo simulation number 50.\n",
      "Running Monte Carlo simulation number 60.\n",
      "Running Monte Carlo simulation number 70.\n",
      "Running Monte Carlo simulation number 80.\n",
      "Running Monte Carlo simulation number 90.\n",
      "Running Monte Carlo simulation number 100.\n"
     ]
    },
    {
     "name": "stderr",
     "output_type": "stream",
     "text": [
      "C:\\Users\\racha\\desktop\\FinTech-Workspace\\Module_5_Challenge\\Financial_Planning_Tools\\MCForecastTools.py:117: PerformanceWarning: DataFrame is highly fragmented.  This is usually the result of calling `frame.insert` many times, which has poor performance.  Consider joining all columns at once using pd.concat(axis=1) instead.  To get a de-fragmented frame, use `newframe = frame.copy()`\n",
      "  portfolio_cumulative_returns[n] = (1 + sim_df.fillna(0)).cumprod()\n"
     ]
    },
    {
     "name": "stdout",
     "output_type": "stream",
     "text": [
      "Running Monte Carlo simulation number 110.\n",
      "Running Monte Carlo simulation number 120.\n",
      "Running Monte Carlo simulation number 130.\n",
      "Running Monte Carlo simulation number 140.\n",
      "Running Monte Carlo simulation number 150.\n",
      "Running Monte Carlo simulation number 160.\n",
      "Running Monte Carlo simulation number 170.\n",
      "Running Monte Carlo simulation number 180.\n",
      "Running Monte Carlo simulation number 190.\n",
      "Running Monte Carlo simulation number 200.\n",
      "Running Monte Carlo simulation number 210.\n",
      "Running Monte Carlo simulation number 220.\n",
      "Running Monte Carlo simulation number 230.\n",
      "Running Monte Carlo simulation number 240.\n",
      "Running Monte Carlo simulation number 250.\n",
      "Running Monte Carlo simulation number 260.\n",
      "Running Monte Carlo simulation number 270.\n",
      "Running Monte Carlo simulation number 280.\n",
      "Running Monte Carlo simulation number 290.\n",
      "Running Monte Carlo simulation number 300.\n",
      "Running Monte Carlo simulation number 310.\n",
      "Running Monte Carlo simulation number 320.\n",
      "Running Monte Carlo simulation number 330.\n",
      "Running Monte Carlo simulation number 340.\n",
      "Running Monte Carlo simulation number 350.\n",
      "Running Monte Carlo simulation number 360.\n",
      "Running Monte Carlo simulation number 370.\n",
      "Running Monte Carlo simulation number 380.\n",
      "Running Monte Carlo simulation number 390.\n",
      "Running Monte Carlo simulation number 400.\n",
      "Running Monte Carlo simulation number 410.\n",
      "Running Monte Carlo simulation number 420.\n",
      "Running Monte Carlo simulation number 430.\n",
      "Running Monte Carlo simulation number 440.\n",
      "Running Monte Carlo simulation number 450.\n",
      "Running Monte Carlo simulation number 460.\n",
      "Running Monte Carlo simulation number 470.\n",
      "Running Monte Carlo simulation number 480.\n",
      "Running Monte Carlo simulation number 490.\n"
     ]
    },
    {
     "data": {
      "text/html": [
       "<div>\n",
       "<style scoped>\n",
       "    .dataframe tbody tr th:only-of-type {\n",
       "        vertical-align: middle;\n",
       "    }\n",
       "\n",
       "    .dataframe tbody tr th {\n",
       "        vertical-align: top;\n",
       "    }\n",
       "\n",
       "    .dataframe thead th {\n",
       "        text-align: right;\n",
       "    }\n",
       "</style>\n",
       "<table border=\"1\" class=\"dataframe\">\n",
       "  <thead>\n",
       "    <tr style=\"text-align: right;\">\n",
       "      <th></th>\n",
       "      <th>0</th>\n",
       "      <th>1</th>\n",
       "      <th>2</th>\n",
       "      <th>3</th>\n",
       "      <th>4</th>\n",
       "      <th>5</th>\n",
       "      <th>6</th>\n",
       "      <th>7</th>\n",
       "      <th>8</th>\n",
       "      <th>9</th>\n",
       "      <th>...</th>\n",
       "      <th>490</th>\n",
       "      <th>491</th>\n",
       "      <th>492</th>\n",
       "      <th>493</th>\n",
       "      <th>494</th>\n",
       "      <th>495</th>\n",
       "      <th>496</th>\n",
       "      <th>497</th>\n",
       "      <th>498</th>\n",
       "      <th>499</th>\n",
       "    </tr>\n",
       "  </thead>\n",
       "  <tbody>\n",
       "    <tr>\n",
       "      <th>0</th>\n",
       "      <td>1.000000</td>\n",
       "      <td>1.000000</td>\n",
       "      <td>1.000000</td>\n",
       "      <td>1.000000</td>\n",
       "      <td>1.000000</td>\n",
       "      <td>1.000000</td>\n",
       "      <td>1.000000</td>\n",
       "      <td>1.000000</td>\n",
       "      <td>1.000000</td>\n",
       "      <td>1.000000</td>\n",
       "      <td>...</td>\n",
       "      <td>1.000000</td>\n",
       "      <td>1.000000</td>\n",
       "      <td>1.000000</td>\n",
       "      <td>1.000000</td>\n",
       "      <td>1.000000</td>\n",
       "      <td>1.000000</td>\n",
       "      <td>1.000000</td>\n",
       "      <td>1.000000</td>\n",
       "      <td>1.000000</td>\n",
       "      <td>1.000000</td>\n",
       "    </tr>\n",
       "    <tr>\n",
       "      <th>1</th>\n",
       "      <td>1.006817</td>\n",
       "      <td>1.017453</td>\n",
       "      <td>0.992568</td>\n",
       "      <td>0.987369</td>\n",
       "      <td>1.009977</td>\n",
       "      <td>0.999581</td>\n",
       "      <td>0.977638</td>\n",
       "      <td>0.998794</td>\n",
       "      <td>1.008820</td>\n",
       "      <td>1.023419</td>\n",
       "      <td>...</td>\n",
       "      <td>0.998024</td>\n",
       "      <td>1.015939</td>\n",
       "      <td>1.002181</td>\n",
       "      <td>0.990368</td>\n",
       "      <td>1.023831</td>\n",
       "      <td>0.993176</td>\n",
       "      <td>1.003966</td>\n",
       "      <td>1.019613</td>\n",
       "      <td>0.997222</td>\n",
       "      <td>1.012744</td>\n",
       "    </tr>\n",
       "    <tr>\n",
       "      <th>2</th>\n",
       "      <td>1.010530</td>\n",
       "      <td>1.021258</td>\n",
       "      <td>0.971634</td>\n",
       "      <td>0.977991</td>\n",
       "      <td>1.009509</td>\n",
       "      <td>0.995490</td>\n",
       "      <td>0.980453</td>\n",
       "      <td>0.995872</td>\n",
       "      <td>1.008612</td>\n",
       "      <td>1.018094</td>\n",
       "      <td>...</td>\n",
       "      <td>0.984218</td>\n",
       "      <td>1.019819</td>\n",
       "      <td>0.998129</td>\n",
       "      <td>0.991177</td>\n",
       "      <td>1.014529</td>\n",
       "      <td>1.002215</td>\n",
       "      <td>0.998242</td>\n",
       "      <td>1.015615</td>\n",
       "      <td>1.002596</td>\n",
       "      <td>1.007044</td>\n",
       "    </tr>\n",
       "    <tr>\n",
       "      <th>3</th>\n",
       "      <td>1.038400</td>\n",
       "      <td>1.014569</td>\n",
       "      <td>0.973826</td>\n",
       "      <td>0.977804</td>\n",
       "      <td>0.991139</td>\n",
       "      <td>1.003548</td>\n",
       "      <td>0.976253</td>\n",
       "      <td>0.988073</td>\n",
       "      <td>1.012820</td>\n",
       "      <td>1.043291</td>\n",
       "      <td>...</td>\n",
       "      <td>0.978742</td>\n",
       "      <td>1.011654</td>\n",
       "      <td>0.985902</td>\n",
       "      <td>0.980280</td>\n",
       "      <td>1.031541</td>\n",
       "      <td>1.012115</td>\n",
       "      <td>0.994614</td>\n",
       "      <td>1.028430</td>\n",
       "      <td>1.014152</td>\n",
       "      <td>0.998667</td>\n",
       "    </tr>\n",
       "    <tr>\n",
       "      <th>4</th>\n",
       "      <td>1.050221</td>\n",
       "      <td>1.023689</td>\n",
       "      <td>0.985507</td>\n",
       "      <td>0.986208</td>\n",
       "      <td>0.986960</td>\n",
       "      <td>0.995383</td>\n",
       "      <td>0.963705</td>\n",
       "      <td>0.989517</td>\n",
       "      <td>1.011159</td>\n",
       "      <td>1.060371</td>\n",
       "      <td>...</td>\n",
       "      <td>0.990252</td>\n",
       "      <td>1.010393</td>\n",
       "      <td>0.989296</td>\n",
       "      <td>0.983246</td>\n",
       "      <td>1.008307</td>\n",
       "      <td>1.028538</td>\n",
       "      <td>0.996607</td>\n",
       "      <td>1.016843</td>\n",
       "      <td>1.024076</td>\n",
       "      <td>0.986318</td>\n",
       "    </tr>\n",
       "    <tr>\n",
       "      <th>...</th>\n",
       "      <td>...</td>\n",
       "      <td>...</td>\n",
       "      <td>...</td>\n",
       "      <td>...</td>\n",
       "      <td>...</td>\n",
       "      <td>...</td>\n",
       "      <td>...</td>\n",
       "      <td>...</td>\n",
       "      <td>...</td>\n",
       "      <td>...</td>\n",
       "      <td>...</td>\n",
       "      <td>...</td>\n",
       "      <td>...</td>\n",
       "      <td>...</td>\n",
       "      <td>...</td>\n",
       "      <td>...</td>\n",
       "      <td>...</td>\n",
       "      <td>...</td>\n",
       "      <td>...</td>\n",
       "      <td>...</td>\n",
       "      <td>...</td>\n",
       "    </tr>\n",
       "    <tr>\n",
       "      <th>2516</th>\n",
       "      <td>8.269268</td>\n",
       "      <td>5.346947</td>\n",
       "      <td>4.471869</td>\n",
       "      <td>5.499412</td>\n",
       "      <td>2.803803</td>\n",
       "      <td>3.368675</td>\n",
       "      <td>6.967912</td>\n",
       "      <td>4.113991</td>\n",
       "      <td>4.835393</td>\n",
       "      <td>6.275973</td>\n",
       "      <td>...</td>\n",
       "      <td>6.862395</td>\n",
       "      <td>3.143711</td>\n",
       "      <td>5.545966</td>\n",
       "      <td>7.052620</td>\n",
       "      <td>5.552413</td>\n",
       "      <td>2.062615</td>\n",
       "      <td>4.001078</td>\n",
       "      <td>6.866188</td>\n",
       "      <td>3.169840</td>\n",
       "      <td>8.480056</td>\n",
       "    </tr>\n",
       "    <tr>\n",
       "      <th>2517</th>\n",
       "      <td>8.113062</td>\n",
       "      <td>5.304389</td>\n",
       "      <td>4.507287</td>\n",
       "      <td>5.444490</td>\n",
       "      <td>2.750853</td>\n",
       "      <td>3.331076</td>\n",
       "      <td>7.015494</td>\n",
       "      <td>4.176866</td>\n",
       "      <td>4.849039</td>\n",
       "      <td>6.302544</td>\n",
       "      <td>...</td>\n",
       "      <td>6.922144</td>\n",
       "      <td>3.132576</td>\n",
       "      <td>5.606719</td>\n",
       "      <td>7.050060</td>\n",
       "      <td>5.502788</td>\n",
       "      <td>2.066957</td>\n",
       "      <td>3.925086</td>\n",
       "      <td>6.914359</td>\n",
       "      <td>3.166044</td>\n",
       "      <td>8.514030</td>\n",
       "    </tr>\n",
       "    <tr>\n",
       "      <th>2518</th>\n",
       "      <td>8.161903</td>\n",
       "      <td>5.387676</td>\n",
       "      <td>4.599077</td>\n",
       "      <td>5.469786</td>\n",
       "      <td>2.728895</td>\n",
       "      <td>3.285929</td>\n",
       "      <td>7.055681</td>\n",
       "      <td>4.097497</td>\n",
       "      <td>4.926228</td>\n",
       "      <td>6.318245</td>\n",
       "      <td>...</td>\n",
       "      <td>6.862890</td>\n",
       "      <td>3.147726</td>\n",
       "      <td>5.520891</td>\n",
       "      <td>7.085980</td>\n",
       "      <td>5.468194</td>\n",
       "      <td>2.107904</td>\n",
       "      <td>3.900686</td>\n",
       "      <td>7.022196</td>\n",
       "      <td>3.138098</td>\n",
       "      <td>8.427030</td>\n",
       "    </tr>\n",
       "    <tr>\n",
       "      <th>2519</th>\n",
       "      <td>8.353264</td>\n",
       "      <td>5.323296</td>\n",
       "      <td>4.497578</td>\n",
       "      <td>5.541792</td>\n",
       "      <td>2.744622</td>\n",
       "      <td>3.301718</td>\n",
       "      <td>7.084710</td>\n",
       "      <td>4.101537</td>\n",
       "      <td>5.041486</td>\n",
       "      <td>6.345476</td>\n",
       "      <td>...</td>\n",
       "      <td>6.857869</td>\n",
       "      <td>3.127600</td>\n",
       "      <td>5.498441</td>\n",
       "      <td>7.301562</td>\n",
       "      <td>5.479857</td>\n",
       "      <td>2.058295</td>\n",
       "      <td>3.928166</td>\n",
       "      <td>7.015814</td>\n",
       "      <td>3.143427</td>\n",
       "      <td>8.419408</td>\n",
       "    </tr>\n",
       "    <tr>\n",
       "      <th>2520</th>\n",
       "      <td>8.313568</td>\n",
       "      <td>5.302498</td>\n",
       "      <td>4.466765</td>\n",
       "      <td>5.526437</td>\n",
       "      <td>2.785772</td>\n",
       "      <td>3.321669</td>\n",
       "      <td>7.261838</td>\n",
       "      <td>4.068036</td>\n",
       "      <td>4.941502</td>\n",
       "      <td>6.309945</td>\n",
       "      <td>...</td>\n",
       "      <td>6.862186</td>\n",
       "      <td>3.051113</td>\n",
       "      <td>5.485773</td>\n",
       "      <td>7.220788</td>\n",
       "      <td>5.556791</td>\n",
       "      <td>2.056994</td>\n",
       "      <td>3.905800</td>\n",
       "      <td>7.073220</td>\n",
       "      <td>3.105569</td>\n",
       "      <td>8.416788</td>\n",
       "    </tr>\n",
       "  </tbody>\n",
       "</table>\n",
       "<p>2521 rows × 500 columns</p>\n",
       "</div>"
      ],
      "text/plain": [
       "           0         1         2         3         4         5         6    \\\n",
       "0     1.000000  1.000000  1.000000  1.000000  1.000000  1.000000  1.000000   \n",
       "1     1.006817  1.017453  0.992568  0.987369  1.009977  0.999581  0.977638   \n",
       "2     1.010530  1.021258  0.971634  0.977991  1.009509  0.995490  0.980453   \n",
       "3     1.038400  1.014569  0.973826  0.977804  0.991139  1.003548  0.976253   \n",
       "4     1.050221  1.023689  0.985507  0.986208  0.986960  0.995383  0.963705   \n",
       "...        ...       ...       ...       ...       ...       ...       ...   \n",
       "2516  8.269268  5.346947  4.471869  5.499412  2.803803  3.368675  6.967912   \n",
       "2517  8.113062  5.304389  4.507287  5.444490  2.750853  3.331076  7.015494   \n",
       "2518  8.161903  5.387676  4.599077  5.469786  2.728895  3.285929  7.055681   \n",
       "2519  8.353264  5.323296  4.497578  5.541792  2.744622  3.301718  7.084710   \n",
       "2520  8.313568  5.302498  4.466765  5.526437  2.785772  3.321669  7.261838   \n",
       "\n",
       "           7         8         9    ...       490       491       492  \\\n",
       "0     1.000000  1.000000  1.000000  ...  1.000000  1.000000  1.000000   \n",
       "1     0.998794  1.008820  1.023419  ...  0.998024  1.015939  1.002181   \n",
       "2     0.995872  1.008612  1.018094  ...  0.984218  1.019819  0.998129   \n",
       "3     0.988073  1.012820  1.043291  ...  0.978742  1.011654  0.985902   \n",
       "4     0.989517  1.011159  1.060371  ...  0.990252  1.010393  0.989296   \n",
       "...        ...       ...       ...  ...       ...       ...       ...   \n",
       "2516  4.113991  4.835393  6.275973  ...  6.862395  3.143711  5.545966   \n",
       "2517  4.176866  4.849039  6.302544  ...  6.922144  3.132576  5.606719   \n",
       "2518  4.097497  4.926228  6.318245  ...  6.862890  3.147726  5.520891   \n",
       "2519  4.101537  5.041486  6.345476  ...  6.857869  3.127600  5.498441   \n",
       "2520  4.068036  4.941502  6.309945  ...  6.862186  3.051113  5.485773   \n",
       "\n",
       "           493       494       495       496       497       498       499  \n",
       "0     1.000000  1.000000  1.000000  1.000000  1.000000  1.000000  1.000000  \n",
       "1     0.990368  1.023831  0.993176  1.003966  1.019613  0.997222  1.012744  \n",
       "2     0.991177  1.014529  1.002215  0.998242  1.015615  1.002596  1.007044  \n",
       "3     0.980280  1.031541  1.012115  0.994614  1.028430  1.014152  0.998667  \n",
       "4     0.983246  1.008307  1.028538  0.996607  1.016843  1.024076  0.986318  \n",
       "...        ...       ...       ...       ...       ...       ...       ...  \n",
       "2516  7.052620  5.552413  2.062615  4.001078  6.866188  3.169840  8.480056  \n",
       "2517  7.050060  5.502788  2.066957  3.925086  6.914359  3.166044  8.514030  \n",
       "2518  7.085980  5.468194  2.107904  3.900686  7.022196  3.138098  8.427030  \n",
       "2519  7.301562  5.479857  2.058295  3.928166  7.015814  3.143427  8.419408  \n",
       "2520  7.220788  5.556791  2.056994  3.905800  7.073220  3.105569  8.416788  \n",
       "\n",
       "[2521 rows x 500 columns]"
      ]
     },
     "execution_count": 57,
     "metadata": {},
     "output_type": "execute_result"
    }
   ],
   "source": [
    "# Run the Monte Carlo simulation to forecast 10 years cumulative returns\n",
    "MC_10year.calc_cumulative_return()"
   ]
  },
  {
   "cell_type": "code",
   "execution_count": 58,
   "metadata": {},
   "outputs": [
    {
     "data": {
      "image/png": "[encoded data removed]",
      "text/plain": [
       "<Figure size 432x288 with 1 Axes>"
      ]
     },
     "metadata": {
      "needs_background": "light"
     },
     "output_type": "display_data"
    }
   ],
   "source": [
    "# Visualize the 10-year Monte Carlo simulation by creating an\n",
    "# overlay line plot\n",
    "MC_sim_line_plot = MC_10year.plot_simulation()\n"
   ]
  },
  {
   "cell_type": "code",
   "execution_count": 59,
   "metadata": {},
   "outputs": [
    {
     "data": {
      "image/png": "[encoded data removed]",
      "text/plain": [
       "<Figure size 432x288 with 1 Axes>"
      ]
     },
     "metadata": {
      "needs_background": "light"
     },
     "output_type": "display_data"
    }
   ],
   "source": [
    "# Visualize the probability distribution of the 10-year Monte Carlo simulation \n",
    "# by plotting a histogram\n",
    "MC_sim_dist_plot = MC_10year.plot_distribution()\n"
   ]
  },
  {
   "cell_type": "code",
   "execution_count": 60,
   "metadata": {},
   "outputs": [
    {
     "name": "stdout",
     "output_type": "stream",
     "text": [
      "count           500.000000\n",
      "mean              6.376587\n",
      "std               3.890705\n",
      "min               1.130844\n",
      "25%               3.846951\n",
      "50%               5.403681\n",
      "75%               7.717397\n",
      "max              29.340144\n",
      "95% CI Lower      1.792785\n",
      "95% CI Upper     17.355671\n",
      "Name: 2520, dtype: float64\n"
     ]
    }
   ],
   "source": [
    "# Generate summary statistics from the 10-year Monte Carlo simulation results\n",
    "# Save the results as a variable\n",
    "MC_summary_statistics = MC_10year.summarize_cumulative_return()\n",
    "\n",
    "# Review the 10-year Monte Carlo summary statistics\n",
    "print(MC_summary_statistics)"
   ]
  },
  {
   "cell_type": "markdown",
   "metadata": {},
   "source": [
    "### Answer the following questions:"
   ]
  },
  {
   "cell_type": "markdown",
   "metadata": {},
   "source": [
    "#### Question: Using the current value of only the stock and bond portion of the member's portfolio and the summary statistics that you generated from the new Monte Carlo simulation, what are the lower and upper bounds for the expected value of the portfolio (with the new weights) with a 95% confidence interval?"
   ]
  },
  {
   "cell_type": "code",
   "execution_count": 61,
   "metadata": {},
   "outputs": [
    {
     "name": "stdout",
     "output_type": "stream",
     "text": [
      "The total value of stock and bond holdings is $ 73,773.20\n"
     ]
    }
   ],
   "source": [
    "# Print the current balance of the stock and bond portion of the members portfolio\n",
    "print(f\"The total value of stock and bond holdings is ${total_stocks_bonds: ,.2f}\")"
   ]
  },
  {
   "cell_type": "code",
   "execution_count": 62,
   "metadata": {},
   "outputs": [
    {
     "name": "stdout",
     "output_type": "stream",
     "text": [
      "There is a 95% chance that this portfolio over the next 10 years will end within in the range of $ 132,259.51 and $ 1,280,383.40.\n"
     ]
    }
   ],
   "source": [
    "# Use the lower and upper `95%` confidence intervals to calculate the range of the possible outcomes for the current stock/bond portfolio\n",
    "ci_lower_ten_cumulative_return = MC_summary_statistics[8] * total_stocks_bonds\n",
    "ci_upper_ten_cumulative_return = MC_summary_statistics[9] * total_stocks_bonds\n",
    "\n",
    "# Print the result of your calculations\n",
    "print(f\"There is a 95% chance that this portfolio\"\n",
    "  f\" over the next 10 years will end within in the range of\"\n",
    "  f\" ${ci_lower_ten_cumulative_return: ,.2f} and ${ci_upper_ten_cumulative_return: ,.2f}.\")\n",
    "\n"
   ]
  },
  {
   "cell_type": "markdown",
   "metadata": {},
   "source": [
    "#### Question: Will weighting the portfolio more heavily to stocks allow the credit union members to retire after only 10 years?"
   ]
  },
  {
   "cell_type": "raw",
   "metadata": {},
   "source": [
    "It is unlikely that weighting the portfolio with more stocks (vs. bonds) will produce enough returns to reduce the time to retirement by 20 years. The mean returns for the 10-year Monte Carlo simulation is 6.18, roughly half the lower bound of the 95% confidence interval for the 30-year simulation. That said, the high end of the range for the 10-year simulation is higher than the low end of the range for the 30 year simulation. This suggests there is a possibility of retiring early if the members are willing to accept the low end of their forecast range."
   ]
  },
  {
   "cell_type": "code",
   "execution_count": null,
   "metadata": {},
   "outputs": [],
   "source": []
  }
 ],
 "metadata": {
  "kernelspec": {
   "display_name": "Python (dev)",
   "language": "python",
   "name": "dev"
  },
  "language_info": {
   "codemirror_mode": {
    "name": "ipython",
    "version": 3
   },
   "file_extension": ".py",
   "mimetype": "text/x-python",
   "name": "python",
   "nbconvert_exporter": "python",
   "pygments_lexer": "ipython3",
   "version": "3.7.11"
  }
 },
 "nbformat": 4,
 "nbformat_minor": 4
}
